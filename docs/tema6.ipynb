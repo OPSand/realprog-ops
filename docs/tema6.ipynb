{
 "cells": [
  {
   "cell_type": "markdown",
   "metadata": {},
   "source": [
    "# Tema 6: Numerisk integrasjon\n",
    "\n",
    "Repetisjon (programmeringspuslespill):\n",
    "\n",
    "[Rektangelmetoden](http://parsons.problemsolving.io/puzzle/e6f9400da6d54c1389d6a1f7489eca36)\n",
    "\n",
    "[Diskret derivasjon](http://parsons.problemsolving.io/puzzle/cd36da48d9cc4fcbbaf13103d84454bf)\n",
    "\n",
    "[Halveringsmetoden](http://parsons.problemsolving.io/puzzle/267d396f643145f6891e3965b75b93b2)"
   ]
  },
  {
   "cell_type": "markdown",
   "metadata": {},
   "source": [
    "## Monte Carlo-integrasjon"
   ]
  },
  {
   "cell_type": "code",
   "execution_count": null,
   "metadata": {},
   "outputs": [],
   "source": []
  },
  {
   "cell_type": "markdown",
   "metadata": {},
   "source": [
    "## Heistur, sesong 2"
   ]
  },
  {
   "cell_type": "code",
   "execution_count": null,
   "metadata": {},
   "outputs": [],
   "source": []
  },
  {
   "attachments": {},
   "cell_type": "markdown",
   "metadata": {},
   "source": [
    "## Multippel integrasjon"
   ]
  },
  {
   "cell_type": "code",
   "execution_count": null,
   "metadata": {},
   "outputs": [],
   "source": [
    "analytisk_dobbel = np.pi**2/8 * (1/np.exp(1) - np.exp(1))\n",
    "analytisk_trippel = 9/2"
   ]
  }
 ],
 "metadata": {
  "kernelspec": {
   "display_name": "Python 3",
   "language": "python",
   "name": "python3"
  },
  "language_info": {
   "codemirror_mode": {
    "name": "ipython",
    "version": 3
   },
   "file_extension": ".py",
   "mimetype": "text/x-python",
   "name": "python",
   "nbconvert_exporter": "python",
   "pygments_lexer": "ipython3",
   "version": "3.8.5"
  }
 },
 "nbformat": 4,
 "nbformat_minor": 4
}
