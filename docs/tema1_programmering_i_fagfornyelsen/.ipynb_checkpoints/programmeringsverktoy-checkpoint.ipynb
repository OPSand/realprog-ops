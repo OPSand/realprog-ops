{
 "cells": [
  {
   "cell_type": "markdown",
   "metadata": {},
   "source": [
    "# Programmeringsverktøy (Jupyter og GitHub)\n",
    "\n",
    "Vi ser her på to mye brukte verktøy i forbindelse med programmering, Jupyter Notebook og GitHub. Jupyter Notebook brukes til å skrive tekst, lage rapporter og kjøre programmer i samme system, mens GitHub er en plattform som gir _versjonskontroll_. Versjonskontroll kjenner du gjennom Dropbox, Onedrive, Google Disk og liknende. Det er en måte å spare på og dele programmene deres for hver endring dere gjør i programmet. Dette gjør det lett å gjenopprette tidligere versjoner dersom ting har gått skeis. GitHub kan være litt kronglete, så det viktigste er her at dere lærer dere hvordan en bruker Jupyter Notebook.\n",
    "\n",
    "\n",
    "## 1. Jupyter Notebook\n",
    "\n",
    "## 1.1 Introduksjon"
   ]
  },
  {
   "cell_type": "code",
   "execution_count": 4,
   "metadata": {
    "tags": [
     "remove-input"
    ]
   },
   "outputs": [
    {
     "data": {
      "text/html": [
       "\n",
       "        <iframe\n",
       "            width=\"800\"\n",
       "            height=\"600\"\n",
       "            src=\"https://www.youtube.com/embed/4CsRUI_MOBU? autoplay=0&rel=0\"\n",
       "            frameborder=\"0\"\n",
       "            allowfullscreen\n",
       "        ></iframe>\n",
       "        "
      ],
      "text/plain": [
       "<IPython.lib.display.IFrame at 0x2a25d878790>"
      ]
     },
     "execution_count": 4,
     "metadata": {},
     "output_type": "execute_result"
    }
   ],
   "source": [
    "from IPython.display import IFrame\n",
    "IFrame(\"https://www.youtube.com/embed/4CsRUI_MOBU? autoplay=0&rel=0\", width=800, height=600)"
   ]
  },
  {
   "cell_type": "markdown",
   "metadata": {},
   "source": [
    "### Oversikt over viktige Markdown-kommandoer:\n",
    "\n",
    "|Tegn\t|Forklaring|\n",
    "|:---:|:---:|\n",
    "|#\t|Oversrift, nivå 1|\n",
    "|##\t|Overskrift, nivå 2|\n",
    "|###\t|Overskrift, nivå 3|\n",
    "|\\_tekst\\_\t|Kursiv|\n",
    "|\\_\\_tekst\\_\\_| \tFet skrift|\n",
    "|\\![bildetekst]\\(bildenavn.jpg)|\tSett inn bilde|\n",
    "|\\[tittel\\](https://www.uio.no)|\tLenke|\n",
    "|\\|tabelltekst\\|tabelltekst\\| |\tTabeller|\n",
    "\n",
    "\n",
    "### Oversikt over viktige LaTeX-kommandoer:\n",
    "\n",
    "Alle kommandoene må pakkes inn i dollartegn hvis de er en del av en linje, eller doble dollartegn for å midstille formelen på en egen linje.\n",
    "\n",
    "|Tegn| \tForklaring|\n",
    "|:---:|:---:|\n",
    "|\\alpha|\tGresk bokstav, f.eks. α|\n",
    "|\\frac{teller}{nevner}|\tBrøk|\n",
    "|^\t|Hevet tekst|\n",
    "|_\t|Senket tekst|\n",
    "|\\sum_{nedre}^{øvre}\t|Summetegn|\n",
    "|\\int_{nedre}^{øvre}|\tIntegral|\n",
    "|\\lim_{x \\to \\infty}\t|Grenseverdi|\n",
    "|\\left(|\tStor venstreparentes|\n",
    "|\\right)|\tStor høyreparentes|\n",
    "\n",
    "### 1.2 Jupyter notebook og rapportskriving"
   ]
  },
  {
   "cell_type": "code",
<<<<<<< HEAD
   "execution_count": 5,
=======
   "execution_count": 2,
>>>>>>> parent of 28b0da2 (stuff)
   "metadata": {
    "tags": [
     "remove-input"
    ]
   },
   "outputs": [
    {
     "data": {
      "text/html": [
       "\n",
       "        <iframe\n",
       "            width=\"800\"\n",
       "            height=\"600\"\n",
       "            src=\"https://www.youtube.com/embed/bQAMrj07MxQ? autoplay=0&rel=0\"\n",
       "            frameborder=\"0\"\n",
       "            allowfullscreen\n",
       "        ></iframe>\n",
       "        "
      ],
      "text/plain": [
       "<IPython.lib.display.IFrame at 0x2a25d878820>"
      ]
     },
<<<<<<< HEAD
     "execution_count": 5,
=======
     "execution_count": 2,
>>>>>>> parent of 28b0da2 (stuff)
     "metadata": {},
     "output_type": "execute_result"
    }
   ],
   "source": [
    "from IPython.display import IFrame\n",
    "IFrame(\"https://www.youtube.com/embed/bQAMrj07MxQ? autoplay=0&rel=0\", width=800, height=600)"
   ]
  },
  {
   "cell_type": "markdown",
   "metadata": {},
   "source": [
    "## 2. GitHub"
   ]
  },
  {
   "cell_type": "code",
   "execution_count": 6,
   "metadata": {
    "tags": [
     "remove-input"
    ]
   },
   "outputs": [
    {
     "data": {
      "text/html": [
       "\n",
       "        <iframe\n",
       "            width=\"800\"\n",
       "            height=\"600\"\n",
       "            src=\"https://www.youtube.com/embed/Or3xpe0G9aM? autoplay=0&rel=0\"\n",
       "            frameborder=\"0\"\n",
       "            allowfullscreen\n",
       "        ></iframe>\n",
       "        "
      ],
      "text/plain": [
       "<IPython.lib.display.IFrame at 0x2a25d8785b0>"
      ]
     },
     "execution_count": 6,
     "metadata": {},
     "output_type": "execute_result"
    }
   ],
   "source": [
    "from IPython.display import IFrame\n",
    "IFrame(\"https://www.youtube.com/embed/Or3xpe0G9aM? autoplay=0&rel=0\", width=800, height=600)"
   ]
  }
 ],
 "metadata": {
  "celltoolbar": "Edit Metadata",
  "kernelspec": {
   "display_name": "Python 3",
   "language": "python",
   "name": "python3"
  },
  "language_info": {
   "codemirror_mode": {
    "name": "ipython",
    "version": 3
   },
   "file_extension": ".py",
   "mimetype": "text/x-python",
   "name": "python",
   "nbconvert_exporter": "python",
   "pygments_lexer": "ipython3",
   "version": "3.8.5"
  }
 },
 "nbformat": 4,
 "nbformat_minor": 4
}
