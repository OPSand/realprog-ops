{
 "cells": [
  {
   "cell_type": "markdown",
   "metadata": {},
   "source": [
    "# Undervisningsmetoder\n",
    "Det finnes mange måter å undervise programmering på. Det viktigste er å ta hensyn til målet med undervisningen (læringsmål) når du velger metode. Er poenget å lære seg en programmeringsstruktur, kan bestemte metoder være gode, men hvis poenget er å lære seg et konsept i for eksempel matematikk eller kjemi bedre, kan andre metoder være bedre. Her får du en oversikt over ulike metoder som du kan benytte i undervisningen.\n",
    "\n",
    "| Metode | Kort forklaring |\n",
    "| --- | :--- |\n",
    "| Bruk av analogier og konkreter | Noen konsepter som variabler og objekter kan være greit å illustrere med noe konkret. Analogier til løkker og beslutninger finnes i hverdagen.|\n",
    "|Liveprogrammering | Læreren programmerer et program live i klasserommet. Her kan en f.eks. stille spørsmål underveis, be elevene/studentene fortsette på koden og legge inn (bevisst og ubevisst) feil som en kan feilsøke sammen.|\n",
    "|Parprogrammering|To arbeider sammen. Én skriver kode, en annen dikterer hva vedkommende skal skrive.|\n",
    "|Diskuter hva programmet gjør|Introduksjon til temaer eller faglige poenger vha. korte, intuitive kodesnutter som elevene kanskje kan skjønne uten å kjenne syntaksen.|\n",
    "|Utfylling|Kode kan lages med noen linjer som mangler, og som elevene skal fylle inn, enten live eller som oppgaver.|\n",
    "|Programmeringspuslespill (Parsons-problemer)|Programlinjene er gitt, men i feil rekkefølge. Fokuset blir på problemløsning, ikke syntaks. Nettbaserte puslespill kan brukes.|\n",
    "|Flytskjemaer|Bruk av flytskjemaer til å systematisere vilkår.|\n",
    "|Sammenlikninger|Sammenlikne hva to nesten like kodesnutter gjør. Kan være fokus på syntaks eller den realfaglige problemstillingen.|\n",
    "|Feilsøking og feilretting|Finn feilen i koden når koden er gitt. Feilen kan være av algoritmisk (realfaglig) eller syntaktisk art.|\n",
    "|Begrepsalias|Spillet alias med viktige begreper som variabel, tilordning, parameter, funksjon, vilkår osv.|\n",
    "|Pseudokode|Uformell beskrivelse av et dataprogram. Legg vekt på logikk framfor syntaks. Beskrive eller utforme pseudokoden selv.|\n",
    "\n",
    "```{admonition} Undervisningsopplegg\n",
    ":class: tip\n",
    "Lag et undervisningsopplegg som inneholder programmering i et av dine fag. Gjør rede for læringsmål, formål, metode og aktivitet. Knytt også opplegget til læreplanen (kompetansemål, grunnleggende ferdigheter, kjerneelementer og tverrfaglige temaer).\n",
    "```"
   ]
  },
  {
   "attachments": {},
   "cell_type": "markdown",
   "metadata": {},
   "source": [
    "## 1. Bruk av analogier og konkreter\n",
    "Eksempler:\n",
    "\n",
    "- Variabler som bokser/skuffer\n",
    "- Objekter som fysiske objekter med felles egenskaper og ulike egenskaper\n",
    "\n",
    "## 2. Liveprogrammering\n",
    "Læreren programmerer (kanskje etter hvert uten forberedelse!).\n",
    "\n",
    "1. Skisser hva programmet skal gjøre. Gjerne med pseudokode på tavla, avhengig av kompleksiteten på problemet.\n",
    "2. Spør elevene underveis om hva neste linje skal være, hva vi mangler eller om programmet kan fungere som det er. La gjerne elevene diskutere parvis innimellom.\n",
    "3. Evaluer programmet, gjerne gruppevis, før det kjøres.\n",
    "4. Legg eventuelt inn feil i programmet underveis som elevene må rette opp i plenum (eller kanskje dukker de opp automatisk!).\n",
    "\n",
    "## 3. Parprogrammering\n",
    "En elev sier hva den andre skal programmere. Deretter byttes rollene.\n",
    "\n",
    "__Oppgaver__\n",
    "1. Lag et program som tar to tall som input og skriver ut hvilket av disse tallene som er størst.\n",
    "2. Lag et program som beregner og skriver ut summen av de 100 første naturlige tallene.\n",
    "3. Lag et program som beregner volumet til en kule og/eller en sylinder ($V_{kule}=\\frac{4}{3}\\pi r^3$, $V_{sylinder}=\\pi r ^2h$)\n",
    "4. Lag et program som regner ut denne summen:\n",
    "$$\\sum_{n=2}^{16} ((n^2 + 1) + n)$$\n",
    "\n",
    "## 4. Diskutere programmer\n",
    "For eksempel: Hva gjør dette programmet?"
   ]
  },
  {
   "cell_type": "code",
   "execution_count": 1,
   "metadata": {},
   "outputs": [],
   "source": [
    "startbeløp = 25000\n",
    "rente = 5.5         \n",
    "beholdning = startbeløp \n",
    "år = 0\n",
    "\n",
    "while beholdning <= 2*startbeløp:\n",
    "    beholdning = beholdning + (rente/100)*beholdning\n",
    "    år = år + 1"
   ]
  },
  {
   "attachments": {},
   "cell_type": "markdown",
   "metadata": {},
   "source": [
    "## 5. Utfylling\n",
    "Fyll inn det som mangler:\n",
    "\n",
    "<iframe src=\"https://trinket.io/embed/python3/d956ddae24\" width=\"100%\" height=\"600\" frameborder=\"0\" marginwidth=\"0\" marginheight=\"0\" allowfullscreen></iframe>\n",
    "<iframe src=\"https://trinket.io/embed/python3/86192d4bba\" width=\"100%\" height=\"600\" frameborder=\"0\" marginwidth=\"0\" marginheight=\"0\" allowfullscreen></iframe>"
   ]
  },
  {
   "attachments": {},
   "cell_type": "markdown",
   "metadata": {},
   "source": [
    "## 6. Parsons-problemer (programmeringspuslespill)"
   ]
  },
  {
   "cell_type": "code",
   "execution_count": 3,
   "metadata": {},
   "outputs": [
    {
     "data": {
      "text/html": [
       "\n",
       "        <iframe\n",
       "            width=\"1000\"\n",
       "            height=\"400\"\n",
       "            src=\"http://parsons.problemsolving.io/puzzle/94eec447d34b418f83d23c48e7c7216c\"\n",
       "            frameborder=\"0\"\n",
       "            allowfullscreen\n",
       "        ></iframe>\n",
       "        "
      ],
      "text/plain": [
       "<IPython.lib.display.IFrame at 0x1e5b65f44c0>"
      ]
     },
     "execution_count": 3,
     "metadata": {},
     "output_type": "execute_result"
    }
   ],
   "source": [
    "from IPython.display import IFrame\n",
    "IFrame('http://parsons.problemsolving.io/puzzle/94eec447d34b418f83d23c48e7c7216c', width=1000, height=400)"
   ]
  },
  {
   "cell_type": "code",
   "execution_count": null,
   "metadata": {},
   "outputs": [],
   "source": []
  }
 ],
 "metadata": {
  "kernelspec": {
   "display_name": "Python 3",
   "language": "python",
   "name": "python3"
  },
  "language_info": {
   "codemirror_mode": {
    "name": "ipython",
    "version": 3
   },
   "file_extension": ".py",
   "mimetype": "text/x-python",
   "name": "python",
   "nbconvert_exporter": "python",
   "pygments_lexer": "ipython3",
   "version": "3.8.5"
  }
 },
 "nbformat": 4,
 "nbformat_minor": 4
}
