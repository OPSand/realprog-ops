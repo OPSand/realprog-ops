{
 "cells": [
  {
   "cell_type": "markdown",
   "metadata": {},
   "source": [
    "# Undervisningsmetoder\n",
    "Det finnes mange måter å undervise programmering på. Det viktigste er å ta hensyn til målet med undervisningen (læringsmål) når du velger metode. Er poenget å lære seg en programmeringsstruktur, kan bestemte metoder være gode, men hvis poenget er å lære seg et konsept i for eksempel matematikk eller kjemi bedre, kan andre metoder være bedre. Her får du en oversikt over ulike metoder som du kan benytte i undervisningen.\n",
    "\n",
    "| Metode | Kort forklaring |\n",
    "| --- | :--- |\n",
    "| Bruk av analogier og konkreter | Noen konsepter som variabler og objekter kan være greit å illustrere med noe konkret. Analogier til løkker og beslutninger finnes i hverdagen.|\n",
    "|Liveprogrammering | Læreren programmerer et program live i klasserommet. Her kan en f.eks. stille spørsmål underveis, be elevene/studentene fortsette på koden og legge inn (bevisst og ubevisst) feil som en kan feilsøke sammen.|\n",
    "|Parprogrammering|To arbeider sammen. Én skriver kode, en annen dikterer hva vedkommende skal skrive.|\n",
    "|Innledende opplæring med intuitive kodesnutter|Introduksjon til temaer vha. korte, intuitive kodesnutter som elevene kanskje kan skjønne uten å kjenne syntaksen.|\n",
    "|Utfylling|Kode kan lages med noen linjer som mangler, og som elevene skal fylle inn, enten live eller som oppgaver.|\n",
    "|Programmeringspuslespill (Parsons-problemer)|Programlinjene er gitt, men i feil rekkefølge. Fokuset blir på problemløsning, ikke syntaks. Nettbaserte puslespill kan brukes.|\n",
    "|Flytskjemaer|Bruk av flytskjemaer til å systematisere vilkår.|\n",
    "|Sammenlikninger|Sammenlikne hva to nesten like kodesnutter gjør. Kan være fokus på syntaks eller den realfaglige problemstillingen.|\n",
    "|Feilsøking og feilretting|Finn feilen i koden når koden er gitt. Feilen kan være av algoritmisk (realfaglig) eller syntaktisk art.|\n",
    "|Begrepsalias|Spillet alias med viktige begreper som variabel, tilordning, parameter, funksjon, vilkår osv.|\n",
    "|Pseudokode|Uformell beskrivelse av et dataprogram. Legg vekt på logikk framfor syntaks. Beskrive eller utforme pseudokoden selv.|\n",
    "\n",
    "```{admonition} Undervisningsopplegg\n",
    ":class: tip\n",
    "Lag et undervisningsopplegg som inneholder programmering i et av dine fag. Gjør rede for læringsmål, formål, metode og aktivitet. Knytt også opplegget til læreplanen (kompetansemål, grunnleggende ferdigheter, kjerneelementer og tverrfaglige temaer).\n",
    "```\n",
    "\n"
   ]
  }
 ],
 "metadata": {
  "kernelspec": {
   "display_name": "Python 3",
   "language": "python",
   "name": "python3"
  },
  "language_info": {
   "codemirror_mode": {
    "name": "ipython",
    "version": 3
   },
   "file_extension": ".py",
   "mimetype": "text/x-python",
   "name": "python",
   "nbconvert_exporter": "python",
   "pygments_lexer": "ipython3",
   "version": "3.8.5"
  }
 },
 "nbformat": 4,
 "nbformat_minor": 4
}
