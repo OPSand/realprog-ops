{
 "cells": [
  {
   "cell_type": "markdown",
   "metadata": {},
   "source": [
    "# Undervisningsmetoder\n",
    "Det finnes mange måter å undervise programmering på. Det viktigste er å ta hensyn til målet med undervisningen (læringsmål) når du velger metode. Er poenget å lære seg en programmeringsstruktur, kan bestemte metoder være gode, men hvis poenget er å lære seg et konsept i for eksempel matematikk eller kjemi bedre, kan andre metoder være bedre. Her får du en oversikt over ulike metoder som du kan benytte i undervisningen.\n",
    "\n",
    "| Metode | Kort forklaring |\n",
    "| --- | :--- |\n",
    "| Bruk av analogier og konkreter | Noen konsepter som variabler og objekter kan være greit å illustrere med noe konkret. Analogier til løkker og beslutninger finnes i hverdagen.|\n",
    "|Liveprogrammering | Læreren programmerer et program live i klasserommet. Her kan en f.eks. stille spørsmål underveis, be elevene/studentene fortsette på koden og legge inn (bevisst og ubevisst) feil som en kan feilsøke sammen.|\n",
    "|Parprogrammering|To arbeider sammen. Én skriver kode, en annen dikterer hva vedkommende skal skrive.|\n",
    "|Diskuter hva programmet gjør|Introduksjon til temaer eller faglige poenger vha. korte, intuitive kodesnutter som elevene kanskje kan skjønne uten å kjenne syntaksen.|\n",
    "|Utfylling|Kode kan lages med noen linjer som mangler, og som elevene skal fylle inn, enten live eller som oppgaver.|\n",
    "|Programmeringspuslespill (Parsons-problemer)|Programlinjene er gitt, men i feil rekkefølge. Fokuset blir på problemløsning, ikke syntaks. Nettbaserte puslespill kan brukes.|\n",
    "|Flytskjemaer|Bruk av flytskjemaer til å systematisere vilkår.|\n",
    "|Sammenlikninger|Sammenlikne hva to nesten like kodesnutter gjør. Kan være fokus på syntaks eller den realfaglige problemstillingen.|\n",
    "|Feilsøking og feilretting|Finn feilen i koden når koden er gitt. Feilen kan være av algoritmisk (realfaglig) eller syntaktisk art.|\n",
    "|Begrepsalias|Spillet alias med viktige begreper som variabel, tilordning, parameter, funksjon, vilkår osv.|\n",
    "|Pseudokode|Uformell beskrivelse av et dataprogram. Legg vekt på logikk framfor syntaks. Beskrive eller utforme pseudokoden selv.|\n",
    "\n",
    "```{admonition} Undervisningsopplegg\n",
    ":class: tip\n",
    "Lag et undervisningsopplegg som inneholder programmering i et av dine fag. Gjør rede for læringsmål, formål, metode og aktivitet. Knytt også opplegget til læreplanen (kompetansemål, grunnleggende ferdigheter, kjerneelementer og tverrfaglige temaer).\n",
    "```"
   ]
  },
  {
   "cell_type": "markdown",
   "metadata": {},
   "source": [
    "## 1. Bruk av analogier og konkreter\n",
    "Eksempler:\n",
    "\n",
    "- Variabler som bokser/skuffer\n",
    "- Objekter som fysiske objekter med felles egenskaper og ulike egenskaper\n",
    "\n",
    "## 2. Liveprogrammering\n",
    "Læreren programmerer (kanskje etter hvert uten forberedelse!).\n",
    "\n",
    "1. Skisser hva programmet skal gjøre. Gjerne med pseudokode på tavla, avhengig av kompleksiteten på problemet.\n",
    "2. Spør elevene underveis om hva neste linje skal være, hva vi mangler eller om programmet kan fungere som det er. La gjerne elevene diskutere parvis innimellom.\n",
    "3. Evaluer programmet, gjerne gruppevis, før det kjøres.\n",
    "4. Legg eventuelt inn feil i programmet underveis som elevene må rette opp i plenum (eller kanskje dukker de opp automatisk!).\n",
    "\n",
    "## 3. Parprogrammering\n",
    "En elev sier hva den andre skal programmere. Deretter byttes rollene.\n",
    "\n",
    "__Oppgaver__\n",
    "1. Lag et program som tar to tall som input og skriver ut hvilket av disse tallene som er størst.\n",
    "2. Lag et program som beregner og skriver ut summen av de 100 første naturlige tallene.\n",
    "3. Lag et program som beregner volumet til en kule og/eller en sylinder ($V_{kule}=\\frac{4}{3}\\pi r^3$, $V_{sylinder}=\\pi r ^2h$)\n",
    "4. Lag et program som regner ut denne summen:\n",
    "\n",
    "$$\\sum_{n=2}^{16} ((n^2 + 1) + n)$$\n",
    "\n",
    "## 4. Diskutere programmer\n",
    "For eksempel: Hva gjør dette programmet?"
   ]
  },
  {
   "cell_type": "code",
   "execution_count": 1,
   "metadata": {},
   "outputs": [],
   "source": [
    "startbeløp = 25000\n",
    "rente = 5.5         \n",
    "beholdning = startbeløp \n",
    "år = 0\n",
    "\n",
    "while beholdning <= 2*startbeløp:\n",
    "    beholdning = beholdning + (rente/100)*beholdning\n",
    "    år = år + 1"
   ]
  },
  {
   "cell_type": "markdown",
   "metadata": {},
   "source": [
    "## 5. Utfylling\n",
    "Fyll inn det som mangler:\n",
    "\n",
    "<iframe src=\"https://trinket.io/embed/python3/d956ddae24\" width=\"100%\" height=\"600\" frameborder=\"0\" marginwidth=\"0\" marginheight=\"0\" allowfullscreen></iframe>\n",
    "<iframe src=\"https://trinket.io/embed/python3/86192d4bba\" width=\"100%\" height=\"600\" frameborder=\"0\" marginwidth=\"0\" marginheight=\"0\" allowfullscreen></iframe>"
   ]
  },
  {
   "cell_type": "markdown",
   "metadata": {},
   "source": [
    "## 6. Parsons-problemer (programmeringspuslespill)\n",
    "\n",
    "http://parsons.problemsolving.io/"
   ]
  },
  {
   "cell_type": "markdown",
   "metadata": {},
   "source": [
    "1. Hvor mange løsninger har en andregradslikning?"
   ]
  },
  {
   "cell_type": "code",
   "execution_count": 44,
   "metadata": {
    "tags": [
     "remove-input"
    ]
   },
   "outputs": [
    {
     "data": {
      "text/html": [
       "\n",
       "        <iframe\n",
       "            width=\"1000\"\n",
       "            height=\"750\"\n",
       "            src=\"https://parsons.herokuapp.com/puzzle/94eec447d34b418f83d23c48e7c7216c\"\n",
       "            frameborder=\"0\"\n",
       "            allowfullscreen\n",
       "        ></iframe>\n",
       "        "
      ],
      "text/plain": [
       "<IPython.lib.display.IFrame at 0x1e5b6520d30>"
      ]
     },
     "execution_count": 44,
     "metadata": {},
     "output_type": "execute_result"
    }
   ],
   "source": [
    "from IPython.display import IFrame\n",
    "IFrame('https://parsons.herokuapp.com/puzzle/94eec447d34b418f83d23c48e7c7216c', width=1000, height=750)"
   ]
  },
  {
   "cell_type": "markdown",
   "metadata": {},
   "source": [
    "2. Finn maksverdi i liste."
   ]
  },
  {
   "cell_type": "code",
   "execution_count": 1,
   "metadata": {
    "tags": [
     "remove-input"
    ]
   },
   "outputs": [
    {
     "data": {
      "text/html": [
       "\n",
       "        <iframe\n",
       "            width=\"1000\"\n",
       "            height=\"450\"\n",
       "            src=\"https://parsons.herokuapp.com/puzzle/7dd337509a3844a1b534ddcd97ac458a\"\n",
       "            frameborder=\"0\"\n",
       "            allowfullscreen\n",
       "        ></iframe>\n",
       "        "
      ],
      "text/plain": [
       "<IPython.lib.display.IFrame at 0x215fbd3e520>"
      ]
     },
     "execution_count": 1,
     "metadata": {},
     "output_type": "execute_result"
    }
   ],
   "source": [
    "from IPython.display import IFrame\n",
    "IFrame('https://parsons.herokuapp.com/puzzle/7dd337509a3844a1b534ddcd97ac458a', width=1000, height=450)"
   ]
  },
  {
   "cell_type": "markdown",
   "metadata": {},
   "source": [
    "3. Kvadrering/kvadratrot:"
   ]
  },
  {
   "cell_type": "code",
   "execution_count": 45,
   "metadata": {
    "tags": [
     "remove-input"
    ]
   },
   "outputs": [
    {
     "data": {
      "text/html": [
       "\n",
       "        <iframe\n",
       "            width=\"1000\"\n",
       "            height=\"450\"\n",
       "            src=\"https://parsons.herokuapp.com/puzzle/b7ef4778bfd14098b5d083b87a73db0f\"\n",
       "            frameborder=\"0\"\n",
       "            allowfullscreen\n",
       "        ></iframe>\n",
       "        "
      ],
      "text/plain": [
       "<IPython.lib.display.IFrame at 0x1e5b6520be0>"
      ]
     },
     "execution_count": 45,
     "metadata": {},
     "output_type": "execute_result"
    }
   ],
   "source": [
    "from IPython.display import IFrame\n",
    "IFrame('https://parsons.herokuapp.com/puzzle/b7ef4778bfd14098b5d083b87a73db0f', width=1000, height=450)"
   ]
  },
  {
   "cell_type": "markdown",
   "metadata": {},
   "source": [
    "4. Elektroneksitasjon"
   ]
  },
  {
   "cell_type": "code",
   "execution_count": 46,
   "metadata": {
    "tags": [
     "remove-input"
    ]
   },
   "outputs": [
    {
     "data": {
      "text/html": [
       "\n",
       "        <iframe\n",
       "            width=\"1000\"\n",
       "            height=\"700\"\n",
       "            src=\"https://parsons.herokuapp.com/puzzle/05e7b40e5c314ff8877d2e2df3ddf4fa\"\n",
       "            frameborder=\"0\"\n",
       "            allowfullscreen\n",
       "        ></iframe>\n",
       "        "
      ],
      "text/plain": [
       "<IPython.lib.display.IFrame at 0x1e5b65208e0>"
      ]
     },
     "execution_count": 46,
     "metadata": {},
     "output_type": "execute_result"
    }
   ],
   "source": [
    "from IPython.display import IFrame\n",
    "IFrame('https://parsons.herokuapp.com/puzzle/05e7b40e5c314ff8877d2e2df3ddf4fa', width=1000, height=700)"
   ]
  },
  {
   "cell_type": "markdown",
   "metadata": {},
   "source": [
    "## 7. Flytskjemaer\n",
    "Lag flytskjemaer for å beskrive ulike utfall.\n",
    "\n",
    "1. Muffinsform: G og L – I hvilken retning går akselerasjonen?\n",
    "2. Bestemmelsesnøkkel i biologi.\n",
    "3. pH - Hva er sur, basisk og nøytral løsning?\n",
    "4. Er trekanten likebeint, likesidet eller ingen av delene?\n",
    "\n",
    "Eksempel:"
   ]
  },
  {
   "cell_type": "code",
   "execution_count": 17,
   "metadata": {
    "tags": [
     "remove-input"
    ]
   },
   "outputs": [
    {
     "data": {
      "text/html": [
       "<img src=\"https://www.uio.no/studier/emner/matnat/natfag/NAT3000/h21/ressurser/flytskjema.png\" width=\"500\" height=\"500\"/>"
      ],
      "text/plain": [
       "<IPython.core.display.Image object>"
      ]
     },
     "execution_count": 17,
     "metadata": {},
     "output_type": "execute_result"
    }
   ],
   "source": [
    "from IPython.display import Image\n",
    "from IPython.core.display import HTML \n",
    "Image(url=\"https://www.uio.no/studier/emner/matnat/natfag/NAT3000/h21/ressurser/flytskjema.png\", width=500, height=500)"
   ]
  },
  {
   "cell_type": "markdown",
   "metadata": {},
   "source": [
    "## 8. Sammenlikninger\n",
    "\n",
    "Kan være både kodeteknisk og fagretta. Eksempel:\n",
    "\n",
    "Hva blir output fra de to kodesnuttene nedenfor?"
   ]
  },
  {
   "cell_type": "code",
   "execution_count": 21,
   "metadata": {
    "collapsed": true,
    "tags": [
     "remove-output"
    ]
   },
   "outputs": [
    {
     "name": "stdout",
     "output_type": "stream",
     "text": [
      "1\n",
      "2\n",
      "3\n",
      "4\n",
      "5\n",
      "6\n",
      "7\n",
      "8\n",
      "9\n",
      "10\n"
     ]
    }
   ],
   "source": [
    "a = 0\n",
    "while a < 10:\n",
    "    a = a + 1\n",
    "    print(a)"
   ]
  },
  {
   "cell_type": "code",
   "execution_count": 20,
   "metadata": {
    "collapsed": true,
    "tags": [
     "remove-output"
    ]
   },
   "outputs": [
    {
     "name": "stdout",
     "output_type": "stream",
     "text": [
      "10\n"
     ]
    }
   ],
   "source": [
    "b = 10\n",
    "while b < 10:\n",
    "    b = b + 1\n",
    "print(b)"
   ]
  },
  {
   "cell_type": "markdown",
   "metadata": {},
   "source": [
    "Hva gjør de to programsnuttene nedenfor?"
   ]
  },
  {
   "cell_type": "code",
   "execution_count": 31,
   "metadata": {
    "collapsed": true,
    "tags": [
     "remove-output"
    ]
   },
   "outputs": [
    {
     "name": "stdout",
     "output_type": "stream",
     "text": [
      "Løsningen har pH = 6.920818753952375 og er sur.\n"
     ]
    }
   ],
   "source": [
    "from pylab import *\n",
    "\n",
    "oksonium = 1.2E-7\n",
    "pH = -log10(oksonium)\n",
    "if pH > 7:\n",
    "    print(\"Løsningen har pH =\", pH, \"og er basisk.\")\n",
    "elif pH < 7:\n",
    "    print(\"Løsningen har pH =\", pH, \"og er sur.\")\n",
    "else:\n",
    "    print(\"Løsningen har pH =\", pH, \"og er nøytral.\")"
   ]
  },
  {
   "cell_type": "code",
   "execution_count": 32,
   "metadata": {
    "collapsed": true,
    "tags": [
     "remove-output"
    ]
   },
   "outputs": [
    {
     "name": "stdout",
     "output_type": "stream",
     "text": [
      "Løsningen har pH = 6.920818753952375 og er nøytral.\n"
     ]
    }
   ],
   "source": [
    "from pylab import *\n",
    "\n",
    "oksonium = 1.2E-7\n",
    "pH = -log10(oksonium)\n",
    "tol = 0.1\n",
    "if pH > (7 + tol):\n",
    "    print(\"Løsningen har pH =\", pH, \"og er basisk.\")\n",
    "elif pH < (7 - tol):\n",
    "    print(\"Løsningen har pH =\", pH, \"og er sur.\")\n",
    "else:\n",
    "    print(\"Løsningen har pH =\", pH, \"og er nøytral.\")"
   ]
  },
  {
   "cell_type": "markdown",
   "metadata": {},
   "source": [
    "## 9. Feilsøking og feilretting\n",
    "\n",
    "Programmet skal regne ut hvor lang tid det tar å doble et beløp i banken med 3 % rente og et årlig sparebeløp. Programmet fungerer ikke som det skal – hva er feil, og hvordan kan vi rette opp i feilen? "
   ]
  },
  {
   "cell_type": "code",
   "execution_count": null,
   "metadata": {},
   "outputs": [],
   "source": [
    "startkapital = 10000\n",
    "rente = 0.03\n",
    "sparing = 500\n",
    "tid = 0\n",
    "sluttsum = startkapital*2\n",
    "kapital = startkapital\n",
    "while kapital <= sluttsum:\n",
    "    kapital = kapital*rente + sparing\n",
    "    tid = tid + 1\n",
    "print(\"Det tar\", tid \"år å doble beløpet.\")"
   ]
  },
  {
   "cell_type": "markdown",
   "metadata": {},
   "source": [
    "## 10. Pseudokode\n",
    "1. Lag en pseudokode for et program som skal finne absoluttverdien til et tall.\n",
    "2. Lag en pseudokode for et program som skal beregne utviklingen i en harepopulasjon etter 10 år.\n",
    "\n",
    "__Eksempel:__"
   ]
  },
  {
   "cell_type": "markdown",
   "metadata": {},
   "source": [
    "a = 12\n",
    "\n",
    "x_gammel = 3.5\n",
    "\n",
    "gjenta n ganger:\n",
    "- x_ny = 0.5*(x_gammel + a/x_gammel)\n",
    "- x_gammel = x_ny"
   ]
  }
 ],
 "metadata": {
  "celltoolbar": "Edit Metadata",
  "kernelspec": {
   "display_name": "Python 3",
   "language": "python",
   "name": "python3"
  },
  "language_info": {
   "codemirror_mode": {
    "name": "ipython",
    "version": 3
   },
   "file_extension": ".py",
   "mimetype": "text/x-python",
   "name": "python",
   "nbconvert_exporter": "python",
   "pygments_lexer": "ipython3",
   "version": "3.8.5"
  }
 },
 "nbformat": 4,
 "nbformat_minor": 4
}
