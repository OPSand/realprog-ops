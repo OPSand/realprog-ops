{
 "cells": [
  {
   "cell_type": "markdown",
   "metadata": {},
   "source": [
    "# Tema 7: Kontinuerlig modellering og simuleringer"
   ]
  },
  {
   "cell_type": "code",
   "execution_count": 11,
   "metadata": {},
   "outputs": [
    {
     "name": "stdout",
     "output_type": "stream",
     "text": [
      "1.749635999946248\n"
     ]
    }
   ],
   "source": [
    "# Fysiske størrelser og konstanter\n",
    "g = 9.8\n",
    "m = 30\n",
    "k = 0\n",
    "dt = 1E-6\n",
    "\n",
    "# Startbetingelser\n",
    "s = 15\n",
    "v = 0\n",
    "t = 0\n",
    "\n",
    "while s > 0:\n",
    "    a = -g + k/m*v**2\n",
    "    v = v + a*dt\n",
    "    s = s + v*dt\n",
    "    t = t + dt\n",
    "\n",
    "print(t)"
   ]
  },
  {
   "cell_type": "code",
   "execution_count": 22,
   "metadata": {},
   "outputs": [
    {
     "data": {
      "image/png": "[encoded data removed]",
      "text/plain": [
       "<Figure size 432x288 with 1 Axes>"
      ]
     },
     "metadata": {
      "needs_background": "light"
     },
     "output_type": "display_data"
    }
   ],
   "source": [
    "import matplotlib.pyplot as plt\n",
    "import numpy as np\n",
    "\n",
    "# Fysiske størrelser og konstanter\n",
    "g = 9.8\n",
    "m = 30\n",
    "k = 0.5\n",
    "\n",
    "# Startbetingelser\n",
    "s0 = 15\n",
    "v0 = 0\n",
    "\n",
    "# Tidssteg\n",
    "dt = 1E-3\n",
    "tid = 4\n",
    "n = int(tid/dt)\n",
    "\n",
    "# Array\n",
    "t = np.zeros(n+1)\n",
    "s = np.zeros(n+1)\n",
    "v = np.zeros(n+1)\n",
    "a = np.zeros(n+1)\n",
    "\n",
    "# Initialisering\n",
    "s[0] = s0\n",
    "v[0] = v0\n",
    "\n",
    "# Eulers metode\n",
    "for i in range(n):\n",
    "    a[i] = -g + k*v[i]**2\n",
    "    v[i+1] = v[i] + a[i]*dt\n",
    "    s[i+1] = s[i] + v[i]*dt\n",
    "    t[i+1] = t[i] + dt\n",
    "\n",
    "plt.plot(t,v)\n",
    "plt.show()"
   ]
  },
  {
   "cell_type": "code",
   "execution_count": 23,
   "metadata": {},
   "outputs": [
    {
     "data": {
      "image/png": "[encoded data removed]",
      "text/plain": [
       "<Figure size 432x288 with 1 Axes>"
      ]
     },
     "metadata": {
      "needs_background": "light"
     },
     "output_type": "display_data"
    }
   ],
   "source": [
    "plt.plot(t[0:i],a[0:i])\n",
    "plt.show()"
   ]
  },
  {
   "cell_type": "markdown",
   "metadata": {},
   "source": [
    "## Eksempel: Vibrasjonsmodeller\n",
    "\n",
    "Vi kan lage bindingsmodeller som enkle \"fjærmodeller\". Da ser vi på atomene som kuler som henger i hver sin ende av en fjær. Dersom fjæra er stiv (høy \"fjærkonstant\"), vibrerer atomene mye, og motsatt. Enkle fjærkrefter følger Hooks lov:\n",
    "\n",
    "$$F = -k\\cdot (x - x_0)$$\n",
    "\n",
    "der _x_ er posisjonen og $x_0$ er likevektsposisjonen, dvs. posisjonen der fjæra ikke er komprimert eller strukket ut."
   ]
  },
  {
   "cell_type": "code",
   "execution_count": null,
   "metadata": {},
   "outputs": [],
   "source": [
    "import numpy as np\n",
    "import matplotlib.pyplot as plt\n",
    "\n",
    "# Konstanter og variabler\n",
    "m = 1    # Masse i kg\n",
    "k = 2    # Fjærkonstant\n",
    "x_eq = 0 # Likevektsposisjon i m\n",
    "v0 = 0   # Startfart i m/s\n",
    "x0 = 1   # Startposisjon i m\n",
    "\n",
    "# Tidssteg\n",
    "dt = 1E-5\n",
    "tid = 20        # Tid i s\n",
    "N = int(tid/dt) # Intervaller\n",
    "\n",
    "# Initialisering\n",
    "v = np.zeros(N+1)\n",
    "x = np.zeros(N+1)\n",
    "t = np.zeros(N+1)\n",
    "\n",
    "v[0] = v0\n",
    "x[0] = x0\n",
    "\n"
   ]
  }
 ],
 "metadata": {
  "kernelspec": {
   "display_name": "Python 3",
   "language": "python",
   "name": "python3"
  },
  "language_info": {
   "codemirror_mode": {
    "name": "ipython",
    "version": 3
   },
   "file_extension": ".py",
   "mimetype": "text/x-python",
   "name": "python",
   "nbconvert_exporter": "python",
   "pygments_lexer": "ipython3",
   "version": "3.8.3"
  }
 },
 "nbformat": 4,
 "nbformat_minor": 4
}
