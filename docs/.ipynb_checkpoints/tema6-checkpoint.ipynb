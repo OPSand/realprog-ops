{
 "cells": [
  {
   "cell_type": "markdown",
   "metadata": {},
   "source": [
    "# Tema 6: Numerisk integrasjon"
   ]
  },
  {
<<<<<<< HEAD
   "cell_type": "markdown",
   "metadata": {},
   "source": [
    "## Monte Carlo-integrasjon"
   ]
  },
  {
   "cell_type": "code",
   "execution_count": null,
   "metadata": {},
   "outputs": [],
   "source": [
    "import numpy as np\n",
    "import matplotlib.pyplot as plt\n",
    "\n",
    "data = np.loadtxt('Datafiler-innhold/heistur.csv', delimiter=',', skiprows = 1)\n",
    "t = data[:,0]\n",
    "s = data[:,2]\n",
    "\n",
    "fart = []\n",
    "\n",
    "for i in range(len(t)-1):\n",
    "    ds = s[i+1] - s[i]\n",
    "    dt = t[i+1] - t[i]\n",
    "    v = ds/dt\n",
    "    fart.append(v)\n",
    "\n",
    "plt.plot(t[:-1],fart)\n",
    "plt.show()"
   ]
  },
  {
   "cell_type": "markdown",
   "metadata": {},
   "source": [
    "## Heistur, sesong 2"
=======
   "cell_type": "code",
   "execution_count": 12,
   "metadata": {},
   "outputs": [
    {
     "name": "stdout",
     "output_type": "stream",
     "text": [
      "Numerisk verdi: 6.399840001066687\n",
      "Analytisk verdi: 6.4\n"
     ]
    }
   ],
   "source": [
    "n = 100000\n",
    "\n",
    "def f(x):\n",
    "    return x**4\n",
    "\n",
    "def f_analytisk(x):\n",
    "    return (1/5)*x**5\n",
    "\n",
    "def rektangelmetoden_venstre(f, a, b, n):\n",
    "    A = 0\n",
    "    h = (b-a)/n\n",
    "    for i in range(n):\n",
    "        A = A + f(a+i*h)\n",
    "    return A*h\n",
    "\n",
    "print(f'Numerisk verdi: {rektangelmetoden_venstre(f,0,2,n)}')\n",
    "print(f'Analytisk verdi: {f_analytisk(2)-f_analytisk(0)}')"
>>>>>>> a238737c71f5ff076fdf2c57b135d417e82082d8
   ]
  },
  {
   "cell_type": "code",
<<<<<<< HEAD
   "execution_count": null,
   "metadata": {},
   "outputs": [],
   "source": []
  },
  {
   "cell_type": "markdown",
   "metadata": {},
   "source": [
    "## Multippel integrasjon"
=======
   "execution_count": 13,
   "metadata": {},
   "outputs": [
    {
     "name": "stdout",
     "output_type": "stream",
     "text": [
      "6.4000000010666875\n",
      "6.400000000000016\n"
     ]
    }
   ],
   "source": [
    "from scipy import integrate\n",
    "import numpy as np\n",
    "\n",
    "x = np.linspace(0,2,n)\n",
    "y = f(x)\n",
    "\n",
    "trapes = integrate.trapz(y,x)\n",
    "simpsons = integrate.simps(y,x)\n",
    "print(trapes)\n",
    "print(simpsons)\n"
>>>>>>> a238737c71f5ff076fdf2c57b135d417e82082d8
   ]
  },
  {
   "cell_type": "code",
   "execution_count": null,
   "metadata": {},
   "outputs": [],
<<<<<<< HEAD
   "source": [
    "analytisk_dobbel = np.pi**2/8 * (1/np.exp(1) - np.exp(1))\n",
    "analytisk_trippel = 9/2"
   ]
=======
   "source": []
>>>>>>> a238737c71f5ff076fdf2c57b135d417e82082d8
  }
 ],
 "metadata": {
  "kernelspec": {
   "display_name": "Python 3",
   "language": "python",
   "name": "python3"
  },
  "language_info": {
   "codemirror_mode": {
    "name": "ipython",
    "version": 3
   },
   "file_extension": ".py",
   "mimetype": "text/x-python",
   "name": "python",
   "nbconvert_exporter": "python",
   "pygments_lexer": "ipython3",
<<<<<<< HEAD
   "version": "3.8.5"
=======
   "version": "3.7.6"
>>>>>>> a238737c71f5ff076fdf2c57b135d417e82082d8
  }
 },
 "nbformat": 4,
 "nbformat_minor": 4
}
