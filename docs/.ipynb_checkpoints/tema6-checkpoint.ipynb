{
 "cells": [
  {
   "cell_type": "markdown",
   "metadata": {},
   "source": [
    "# Tema 6: Numerisk integrasjon"
   ]
  },
  {
   "cell_type": "code",
   "execution_count": 12,
   "metadata": {},
   "outputs": [
    {
     "name": "stdout",
     "output_type": "stream",
     "text": [
      "Numerisk verdi: 6.399840001066687\n",
      "Analytisk verdi: 6.4\n"
     ]
    }
   ],
   "source": [
    "n = 100000\n",
    "\n",
    "def f(x):\n",
    "    return x**4\n",
    "\n",
    "def f_analytisk(x):\n",
    "    return (1/5)*x**5\n",
    "\n",
    "def rektangelmetoden_venstre(f, a, b, n):\n",
    "    A = 0\n",
    "    h = (b-a)/n\n",
    "    for i in range(n):\n",
    "        A = A + f(a+i*h)\n",
    "    return A*h\n",
    "\n",
    "print(f'Numerisk verdi: {rektangelmetoden_venstre(f,0,2,n)}')\n",
    "print(f'Analytisk verdi: {f_analytisk(2)-f_analytisk(0)}')"
   ]
  },
  {
   "cell_type": "code",
   "execution_count": 13,
   "metadata": {},
   "outputs": [
    {
     "name": "stdout",
     "output_type": "stream",
     "text": [
      "6.4000000010666875\n",
      "6.400000000000016\n"
     ]
    }
   ],
   "source": [
    "from scipy import integrate\n",
    "import numpy as np\n",
    "\n",
    "x = np.linspace(0,2,n)\n",
    "y = f(x)\n",
    "\n",
    "trapes = integrate.trapz(y,x)\n",
    "simpsons = integrate.simps(y,x)\n",
    "print(trapes)\n",
    "print(simpsons)\n"
   ]
  },
  {
   "cell_type": "code",
   "execution_count": null,
   "metadata": {},
   "outputs": [],
   "source": []
  }
 ],
 "metadata": {
  "kernelspec": {
   "display_name": "Python 3",
   "language": "python",
   "name": "python3"
  },
  "language_info": {
   "codemirror_mode": {
    "name": "ipython",
    "version": 3
   },
   "file_extension": ".py",
   "mimetype": "text/x-python",
   "name": "python",
   "nbconvert_exporter": "python",
   "pygments_lexer": "ipython3",
   "version": "3.7.6"
  }
 },
 "nbformat": 4,
 "nbformat_minor": 4
}
