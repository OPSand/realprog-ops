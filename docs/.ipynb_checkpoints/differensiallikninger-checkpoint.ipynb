{
 "cells": [
  {
   "cell_type": "markdown",
   "metadata": {},
   "source": [
    "# Kontinuerlig modellering\n",
    "Her skal vi se på metoder for kontinuerlig modellering.\n",
    "\n",
    "```{note}\n",
    "Etter å ha arbeidet med dette temaet, skal du kunne:\n",
    "1. Forklare hva som menes med differensiallikninger, og hvordan slike likninger kan brukes til å modellere ulike systemer.\n",
    "2. Forklare og implementer Eulers metode (Forward Euler).\n",
    "3. Løse ordinære differensiallikninger med egne Python-funksjoner og funksjoner fra Scipy-biblioteket.\n",
    "4. Løse ratelover numerisk.\n",
    "```\n",
    "\n",
    "## Differensiallikninger og Eulers metode"
   ]
  },
  {
   "cell_type": "code",
   "execution_count": 3,
   "metadata": {
    "tags": [
     "remove-input"
    ]
   },
   "outputs": [
    {
     "data": {
      "text/html": [
       "<iframe width=\"950\" height=\"600\" src=\"URL HER? autoplay=0&rel=0\" frameborder=\"0\" allow=\"accelerometer; autoplay; encrypted-media; gyroscope; picture-in-picture\" allowfullscreen></iframe>"
      ],
      "text/plain": [
       "<IPython.core.display.HTML object>"
      ]
     },
     "execution_count": 3,
     "metadata": {},
     "output_type": "execute_result"
    }
   ],
   "source": [
    "from IPython.display import HTML\n",
    "# Youtube\n",
    "HTML('<iframe width=\"950\" height=\"600\" src=\"URL HER? autoplay=0&rel=0\" frameborder=\"0\" allow=\"accelerometer; autoplay; encrypted-media; gyroscope; picture-in-picture\" allowfullscreen></iframe>')"
   ]
  },
  {
   "cell_type": "markdown",
   "metadata": {},
   "source": [
    "Når du har sett videoen, kan du gjøre følgende oppgave for å sjekke om du forstår innholdet:\n",
    "\n",
    "```{admonition} Underveisoppgave: Derivasjon av funksjoner\n",
    ":class: tip\n",
    "Implementer Eulers metode som en Python-funksjon, og løs differensiallikningen $y' = y$ med initialbetingelsen $y(0) = 2$.\n",
    "```\n",
    "\n",
    "## Ratelover"
   ]
  },
  {
   "cell_type": "code",
   "execution_count": null,
   "metadata": {},
   "outputs": [],
   "source": []
  }
 ],
 "metadata": {
  "celltoolbar": "Edit Metadata",
  "kernelspec": {
   "display_name": "Python 3",
   "language": "python",
   "name": "python3"
  },
  "language_info": {
   "codemirror_mode": {
    "name": "ipython",
    "version": 3
   },
   "file_extension": ".py",
   "mimetype": "text/x-python",
   "name": "python",
   "nbconvert_exporter": "python",
   "pygments_lexer": "ipython3",
   "version": "3.7.6"
  }
 },
 "nbformat": 4,
 "nbformat_minor": 4
}
