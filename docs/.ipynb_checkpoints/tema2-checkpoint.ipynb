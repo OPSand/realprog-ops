{
 "cells": [
  {
   "cell_type": "markdown",
   "metadata": {},
   "source": [
    "# Tema 2: Datahåndtering"
   ]
  },
  {
   "cell_type": "code",
   "execution_count": 1,
   "metadata": {},
   "outputs": [
    {
     "name": "stdout",
     "output_type": "stream",
     "text": [
      "Gjennomsnitt\n",
      "Quality 3: 9.955000000000002\n",
      "Quality 6: 10.629519331243468\n",
      "Quality 8: 12.094444444444445 \n",
      "\n",
      "Standardavvik\n",
      "Quality 3: 0.7760315715227054\n",
      "Quality 6: 1.0488160276220875\n",
      "Quality 8: 1.18952475207642\n"
     ]
    },
    {
     "data": {
      "image/png": "[encoded data removed]",
      "text/plain": [
       "<Figure size 432x288 with 1 Axes>"
      ]
     },
     "metadata": {
      "needs_background": "light"
     },
     "output_type": "display_data"
    }
   ],
   "source": [
    "import numpy as np\n",
    "import matplotlib.pyplot as plt\n",
    "\n",
    "# Lesing og sortering av fil\n",
    "infile = np.loadtxt('Datafiler/vin.csv',delimiter=',',skiprows=1)\n",
    "\n",
    "so2 = infile[:,6]\n",
    "quality = infile[:,11]\n",
    "alcohol = infile[:,10]\n",
    "\n",
    "plt.plot(quality,alcohol,linestyle=' ',marker ='.')\n",
    "\n",
    "qua3 = []\n",
    "qua6 = []\n",
    "qua8 = []\n",
    "\n",
    "for i in range(len(quality)):\n",
    "    if quality[i] == 3:\n",
    "        qua3.append(alcohol[i])\n",
    "    elif quality[i] == 6:\n",
    "        qua6.append(alcohol[i])\n",
    "    elif quality[i] == 8:\n",
    "        qua8.append(alcohol[i])\n",
    "\n",
    "gjennomsnitt1 = np.mean(qua3)\n",
    "standardavvik1 = np.std(qua3)\n",
    "gjennomsnitt2 = np.mean(qua6)\n",
    "standardavvik2 = np.std(qua6)\n",
    "gjennomsnitt3 = np.mean(qua8)\n",
    "standardavvik3 = np.std(qua8)\n",
    "\n",
    "print(\"Gjennomsnitt\")\n",
    "print(\"Quality 3:\", gjennomsnitt1)\n",
    "print(\"Quality 6:\", gjennomsnitt2)\n",
    "print(\"Quality 8:\", gjennomsnitt3, \"\\n\")\n",
    "print(\"Standardavvik\")\n",
    "print(\"Quality 3:\", standardavvik1)\n",
    "print(\"Quality 6:\", standardavvik2)\n",
    "print(\"Quality 8:\", standardavvik3)"
   ]
  },
  {
   "cell_type": "code",
   "execution_count": null,
   "metadata": {},
   "outputs": [],
   "source": []
  }
 ],
 "metadata": {
  "kernelspec": {
   "display_name": "Python 3",
   "language": "python",
   "name": "python3"
  },
  "language_info": {
   "codemirror_mode": {
    "name": "ipython",
    "version": 3
   },
   "file_extension": ".py",
   "mimetype": "text/x-python",
   "name": "python",
   "nbconvert_exporter": "python",
   "pygments_lexer": "ipython3",
   "version": "3.7.6"
  }
 },
 "nbformat": 4,
 "nbformat_minor": 4
}
