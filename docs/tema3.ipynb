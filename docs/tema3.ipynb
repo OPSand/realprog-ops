{
 "cells": [
  {
   "cell_type": "markdown",
   "metadata": {},
   "source": [
    "# Tema 3: Diskret modellering"
   ]
  },
  {
   "cell_type": "markdown",
   "metadata": {},
   "source": [
    "## Oppgave 1: Tallfølger\n",
    "\n",
    "Finn ut om rekka $\\sum_{n=1}^\\infty \\frac{1}{n^2}$ konvergerer eller divergerer.\n"
   ]
  },
  {
   "cell_type": "code",
   "execution_count": null,
   "metadata": {},
   "outputs": [],
   "source": []
  },
  {
   "cell_type": "markdown",
   "metadata": {},
   "source": [
    "## Oppgave 2:Tallfølger II\n",
    "Fibonacci-følgen er en kjent tallfølge der hvert tall er summen av de to foregående tallene:\n",
    "\n",
    "$$1, 1, 2, 3, 5, 8, 13, 21, ...$$\n",
    "\n",
    "Finn det hundrede tallet i følgen."
   ]
  },
  {
   "cell_type": "code",
   "execution_count": null,
   "metadata": {},
   "outputs": [],
   "source": []
  },
  {
   "cell_type": "markdown",
   "metadata": {},
   "source": [
    "## Oppgave 3: Kvikksølv i huet\n",
    "Forklar hva følgende kodesnutt gjør:"
   ]
  },
  {
   "cell_type": "code",
   "execution_count": 2,
   "metadata": {},
   "outputs": [
    {
     "name": "stdout",
     "output_type": "stream",
     "text": [
      "Etter 100 år er det 2 mg kvikksølv igjen i hjernen\n"
     ]
    }
   ],
   "source": [
    "m0 = 1200 # Startmasse i mg\n",
    "m = m0\n",
    "tid = 100 # Tid i år\n",
    "H = 27.4 # Halveringstid i år\n",
    "tid_medisin = 12 # Medisin inntatt ved år\n",
    "for t in range(tid):\n",
    "    if t >= tid_medisin:\n",
    "        H = H*0.98\n",
    "    m = m*0.5**(1/H)\n",
    "    \n",
    "print(f'Etter {tid} år er det {m:.0f} mg kvikksølv igjen i hjernen')"
   ]
  },
  {
   "cell_type": "markdown",
   "metadata": {},
   "source": [
    "## Oppgave 4: Medisinakkumulering\n",
    "a) Dersom 80 % av en medisin brytes ned i kroppen hver dag, hvor mye medisin har vi i\n",
    "kroppen til enhver tid dersom vi tar 100 mg medisin hver morgen?"
   ]
  },
  {
   "cell_type": "code",
   "execution_count": null,
   "metadata": {},
   "outputs": [],
   "source": []
  },
  {
   "cell_type": "markdown",
   "metadata": {},
   "source": [
    "b) Bivirkninger av medisinen kan oppstå dersom vi får over 350 mg medisin i blodet. Ta utgangspunkt i medisinprogrammet og modifiser dette slik at det finner ut hvor lenge vi kan gå på medisinen dersom vi bruker 100 mg hver dag. Finn også ut hvor mye medisin vi kan ta hver dag uten at vi får bivirkninger."
   ]
  },
  {
   "cell_type": "code",
   "execution_count": null,
   "metadata": {},
   "outputs": [],
   "source": []
  }
 ],
 "metadata": {
  "kernelspec": {
   "display_name": "Python 3",
   "language": "python",
   "name": "python3"
  },
  "language_info": {
   "codemirror_mode": {
    "name": "ipython",
    "version": 3
   },
   "file_extension": ".py",
   "mimetype": "text/x-python",
   "name": "python",
   "nbconvert_exporter": "python",
   "pygments_lexer": "ipython3",
   "version": "3.8.5"
  }
 },
 "nbformat": 4,
 "nbformat_minor": 4
}
