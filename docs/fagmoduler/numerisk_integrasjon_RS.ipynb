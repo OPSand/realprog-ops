{
 "cells": [
  {
   "cell_type": "markdown",
   "id": "dc9c1d6b",
   "metadata": {},
   "source": [
    "# Numerisk integrasjon (R2/S2)\n",
    "\n",
    "```{admonition} Rektangelmetoden (venstretilnærming)\n",
    "Det bestemte integralet til en funksjon $f(x)$ fra $x = a$ til $x = b$ kan tilnærmes ved arealet til $n$ rektangler med bredden $h = \\frac{b-a}{n}$:\n",
    "\n",
    "$$\\int_a^b f(x) \\ \\mathrm{d}x \\approx h \\sum_{k=1}^{n} f(x_k)$$\n",
    "```\n",
    "\n",
    "```{admonition} Underveisoppgave\n",
    ":class: tip\n",
    "Programmet nedenfor gir en funksjon som bruker venstretilnærmingen av rektangelmetoden til å beregne det bestemte integralet av en funksjon _f_ mellom _a_ og _b_. Fyll inn det som mangler i metoden.\n",
    "```\n",
    "\n",
    "<iframe src=\"https://trinket.io/embed/python3/9513da280a\" width=\"100%\" height=\"300\" frameborder=\"0\" marginwidth=\"0\" marginheight=\"0\" allowfullscreen></iframe>\n",
    "\n",
    "````{admonition} Løsningsforslag\n",
    ":class: tip, dropdown\n",
    "```{code-block} Python\n",
    "def f(x):\t\t\t\t#Definerer en funksjon som vi skal integrere.\n",
    "    return x**3\n",
    "    \n",
    "def f_analytisk(x):     #Definerer analytisk verdi for sammenlikning.\n",
    "    return (1/4)*x**4\n",
    "\n",
    "def rektangelmetoden(f, a, b, n):\n",
    "    A = 0.0\t\t\t\t\t\t\t   \n",
    "    h = (b-a)/n\t\t\t#Bredden til rektanglene\n",
    "    for k in range (n):\t\n",
    "        A = A + f(a + k*h)*h\n",
    "    return A\n",
    "    \n",
    "print(\"Numerisk verdi:\", rektangelmetoden(f, 0, 5, 1000))\n",
    "print(\"Analytisk verdi:\", f_analytisk(5)-f_analytisk(1))\n",
    "```\n",
    "````"
   ]
  },
  {
   "cell_type": "code",
   "execution_count": null,
   "id": "80fcf2bf",
   "metadata": {},
   "outputs": [],
   "source": []
  }
 ],
 "metadata": {
  "kernelspec": {
   "display_name": "Python 3",
   "language": "python",
   "name": "python3"
  },
  "language_info": {
   "codemirror_mode": {
    "name": "ipython",
    "version": 3
   },
   "file_extension": ".py",
   "mimetype": "text/x-python",
   "name": "python",
   "nbconvert_exporter": "python",
   "pygments_lexer": "ipython3",
   "version": "3.8.8"
  }
 },
 "nbformat": 4,
 "nbformat_minor": 5
}
