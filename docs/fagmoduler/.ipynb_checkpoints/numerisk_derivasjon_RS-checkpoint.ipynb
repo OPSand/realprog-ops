{
 "cells": [
  {
   "cell_type": "markdown",
   "metadata": {},
   "source": [
    "# Numerisk derivasjon (R1 og S1)\n",
    "\n",
    "````{admonition}\n",
    "- forstå begrepene vekstfart, grenseverdi, derivasjon og kontinuitet, og bruke disse for å løse praktiske problemer (S1 + R1)\n",
    "- bestemme den deriverte i et punkt geometrisk, algebraisk og ved numeriske metoder, og gi eksempler på funksjoner som ikke er deriverbare i gitte punkter (R1)\n",
    "- analysere og tolke ulike funksjoner ved å bruke derivasjon (R1)\n",
    "- anvende derivasjon til å analysere og tolke egne matematiske modeller av reelle datasett (S1 + R1)\n",
    "- modellere og analysere eksponentiell og logistisk vekst i reelle datasett\n",
    "````\n",
    "\n",
    "````{admonition}\n",
    ":class: tip\n",
    "\n",
    "````"
   ]
  }
 ],
 "metadata": {
  "kernelspec": {
   "display_name": "Python 3",
   "language": "python",
   "name": "python3"
  },
  "language_info": {
   "codemirror_mode": {
    "name": "ipython",
    "version": 3
   },
   "file_extension": ".py",
   "mimetype": "text/x-python",
   "name": "python",
   "nbconvert_exporter": "python",
   "pygments_lexer": "ipython3",
   "version": "3.8.5"
  }
 },
 "nbformat": 4,
 "nbformat_minor": 4
}
