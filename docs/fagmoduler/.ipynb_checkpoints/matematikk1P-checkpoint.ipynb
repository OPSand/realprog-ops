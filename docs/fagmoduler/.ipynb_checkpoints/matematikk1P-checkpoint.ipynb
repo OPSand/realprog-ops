{
 "cells": [
  {
   "cell_type": "markdown",
   "metadata": {},
   "source": [
    "# Matematikk 1P\n",
    "\n",
    "```{admonition} Relevante kompetansemål\n",
    "- utforske korleis ulike premissar vil kunne påverke korleis matematiske problem frå samfunnsliv og arbeidsliv blir løyste\n",
    "- identifisere variable storleikar i ulike situasjonar og bruke dei til utforsking og generalisering\n",
    "- bruke prosent, prosentpoeng, promille og vekstfaktor i utrekningar og presentere og grunngi løysingar\n",
    "```\n",
    "\n",
    "## Økonomi\n",
    "Vi kan bruke programmering til å utforske ulike formler og sammenhenger. Når elevene må tilnærme seg et problem på flere måter, legger vi til rette for dybdelæring. Med programmering er det lett å endre ulike variabler og størrelser, noe som gjør det enklere å utforske og eksperimentere med matematikken. Her skal vi se på hvordan vi kan utforske premisser for sparing av penger, og samtidig utforske konsepter som prosent og vekstfaktor i en praktisk situasjon.\n",
    "\n",
    "Du kan velge ulike løp i resten av oppgava, alt ettersom hvor komfortabel du er med å programmere. Oppgava viser ulike muligheter for å differensiere med programmering.\n",
    "\n",
    "`````{tabbed} Informasjon om oppgava\n",
    "Vi skal studere et program som regner ut hvor mange penger en har i benken etter en viss tid. Klikk på de ulike fanene for å gjøre oppgava tilpasset din kompetanse i programmering. Dersom du for eksempel forstår programmering godt, kan du prøve å lage programmet helt fra scratch. Da klikker du deg inn på nivå 5. Du kan starte på det nivået som passer deg. Prøv også gjerne de andre nivåene etter hvert.\n",
    "\n",
    "- Nivå 1: Forklar og modifiser\n",
    "- Nivå 2: Programmeringspuslespill\n",
    "- Nivå 3: Feilsøk\n",
    "- Nivå 4: Fyll inn\n",
    "- Nivå 5: Lag programmet\n",
    "`````\n",
    "\n",
    "`````{tabbed} Nivå 1: Forklaring\n",
    "Forklar hva programmet nedenfor gjør.\n",
    "\n",
    "<iframe src=\"https://trinket.io/embed/python3/4a25973fab\" width=\"100%\" height=\"600\" frameborder=\"0\" marginwidth=\"0\" marginheight=\"0\" allowfullscreen></iframe>\n",
    "\n",
    "````` \n",
    "\n",
    "`````{tabbed} Nivå 2: Puslespill\n",
    "Løs [dette programmeringspuslespillet](http://parsons.problemsolving.io/puzzle/bf7ab3ae6aae4f558288e4cb4549ec34). De fem første linjene i puslespillet har følgende rekkefølge:\n",
    "\n",
    "````{code-block} Python\n",
    "startbeløp = 25000 \n",
    "beholdning = startbeløp \n",
    "rente = 0.3  \n",
    "vekstfaktor = 1 + rente/100 \n",
    "år = 0\n",
    "````\n",
    "````` \n",
    "\n",
    "`````{tabbed} Nivå 3: Feilsøk\n",
    "Programmet nedenfor skal regne ut hvor lang tid det tar å doble beløpet du har i banken med en rente på 5 %, men det fungerer ikke helt som det skal. Rett opp programmet og bruk programmet til å vise at det tar 15 år før du har 50 000 kroner gitt en startinvestering på 25 000 kroner.\n",
    "\n",
    "<iframe src=\"https://trinket.io/embed/python3/786b80ab12\" width=\"100%\" height=\"600\" frameborder=\"0\" marginwidth=\"0\" marginheight=\"0\" allowfullscreen></iframe>\n",
    "````` \n",
    "\n",
    "`````{tabbed} Nivå 4: Fyll inn\n",
    "Programmet nedenfor skal regne ut hvor lang tid det tar å doble beløpet du har i banken med en rente på 5 %. Fyll inn det som mangler og bruk programmet til å vise at det tar 15 år før du har 50 000 kroner gitt en startinvestering på 25 000 kroner.\n",
    "\n",
    "<iframe src=\"https://trinket.io/embed/python3/7d96afbb1b\" width=\"100%\" height=\"600\" frameborder=\"0\" marginwidth=\"0\" marginheight=\"0\" allowfullscreen></iframe>\n",
    "````` \n",
    "\n",
    "`````{tabbed} Nivå 5: Lag programmet\n",
    "Programmet nedenfor skal regne ut hvor lang tid det tar å doble beløpet du har i banken med en rente på 5 %. Du starter med 25000 kroner.\n",
    "\n",
    "<iframe src=\"https://trinket.io/embed/python3/d13ae1669c\" width=\"100%\" height=\"600\" frameborder=\"0\" marginwidth=\"0\" marginheight=\"0\" allowfullscreen></iframe>\n",
    "````` "
   ]
  },
  {
   "cell_type": "markdown",
   "metadata": {},
   "source": [
    "Vi kan også utforme oppgavene etter PRIMM-prinsippet. PRIMM står for Predict-Run-Investigate-Modify-Make, og er en metode som kan brukes til å bygge opp programmeringsoppgaver på en gradvis måte. I tillegg vil en gjennom PRIMM-oppgaver kunne ha større fokus på det faglige innholdet.\n",
    "\n",
    "````{admonition} Oppgave (PRIMM)\n",
    "Vi skal studere et program som regner ut hvor mange penger en har i benken etter en viss tid.\n",
    "1. Se på programmet nedenfor uten å kjøre det. Hva gjør programmet?\n",
    "2. Kjør deretter programmet og forklar hva det kan fortelle deg om hva rente og vekstfaktor er.\n",
    "<iframe src=\"https://trinket.io/embed/python3/d50ba81313\" width=\"100%\" height=\"600\" frameborder=\"0\" marginwidth=\"0\" marginheight=\"0\" allowfullscreen></iframe>\n",
    "3. Anja trenger 250 000 kroner i egenkapital for å kjøpe seg leilighet. Hun investerer 200 000 på en boligsparingskonto med rente 5,5 \\%, og håper hun får råd til leiligheten innen fem år uten å investere noe mer. Bruk programmet til å finne ut om sparestrategien til Anja er god.\n",
    "4. Modifiser programmet slik at renta stiger med 0,1 \\% hvert år. Hvor mange år tar det før du har 10 000 kroner i banken dersom du investerer 7500 kroner?\n",
    "5. Lag et program som sjekker hvor mye du har i banken etter et visst antall år gitt et startbeløp og en fast rente på 0,2 \\%. Du skal også spare et fast beløp på slutten av hvert år. Test programmet med en startinvestering på 5000 som du har i banken i 10 år med en årlig sparing på 500 kroner.\n",
    "````"
   ]
  }
 ],
 "metadata": {
  "kernelspec": {
   "display_name": "Python 3",
   "language": "python",
   "name": "python3"
  },
  "language_info": {
   "codemirror_mode": {
    "name": "ipython",
    "version": 3
   },
   "file_extension": ".py",
   "mimetype": "text/x-python",
   "name": "python",
   "nbconvert_exporter": "python",
   "pygments_lexer": "ipython3",
   "version": "3.8.5"
  }
 },
 "nbformat": 4,
 "nbformat_minor": 4
}
