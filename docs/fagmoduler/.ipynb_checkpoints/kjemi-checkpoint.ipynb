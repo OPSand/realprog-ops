{
 "cells": [
  {
   "cell_type": "markdown",
   "id": "80434c70",
   "metadata": {},
   "source": [
    "## Programmering i kjemi\n",
    "I kjemi kan det være hensiktsmessig å fokusere på håndtering av eksperimentelle data, i tillegg til utforsking av periodiske egenskaper ved hjelp av ulike _biblioteker_ i Python. Noen nyttige biblioteker som kan brukes til utforsking, er:\n",
    "\n",
    "1. Mendeleev\n",
    "2. Chemlib\n",
    "3. pHcalc\n",
    "\n",
    "Du kan installere disse bibliotekene ved å gå inn på \"Anaconda Prompt\". Dette er en terminal du har installert dersom du har [Anaconda-pakka](https://www.anaconda.com/products/individual) på datamaskinen din. I denne terminalen skriver du så:\n",
    "\n",
    "```{code-block} text\n",
    "pip install mendeleev\n",
    "```\n",
    "\n",
    "Følg eventuelle instruksjoner og vent til installasjonen er ferdig. Kjør deretter neste installasjon:\n",
    "\n",
    "```{code-block} text\n",
    "pip install chemlib\n",
    "```\n",
    "\n",
    "Og siste installasjon:\n",
    "\n",
    "```{code-block} text\n",
    "pip install phcalc\n",
    "```\n",
    "\n",
    "Før vi ser på disse bibliotekene, skal vi derimot se litt på håndtering av eksperimentelle data."
   ]
  },
  {
   "cell_type": "markdown",
   "id": "5cfb97c5",
   "metadata": {},
   "source": [
    "## Datahåndtering\n",
    "Et mye brukt bibliotek for datahåndtering er _Pandas_. Det lar oss enkelt lese og utforske data fra råtekstfiler. Her er et eksempel:\n",
    "\n",
    "<iframe src=\"https://trinket.io/embed/python3/07e4100152\" width=\"100%\" height=\"600\" frameborder=\"0\" marginwidth=\"0\" marginheight=\"0\" allowfullscreen></iframe>\n",
    "\n",
    "```{admonition} Oppgave\n",
    ":class: tip\n",
    "Fila \"titreringsdata.txt\" inneholder pH og tilsatt volum i en titrering av eddiksyre med NaOH. Plott titrerkurven og legg til egnede aksetitler.\n",
    "```\n",
    "\n",
    "Du kan finne mer informasjon om plotting [her](https://andreasdh.github.io/NAT3000/docs/tema3_datahandtering/plotting.html) og mer informasjon om hvordan du kan lese og håndtere filer med Pandas [her](https://andreasdh.github.io/NAT3000/docs/tema3_datahandtering/lese_filer.html)."
   ]
  },
  {
   "cell_type": "code",
   "execution_count": null,
   "id": "c42af5e7",
   "metadata": {},
   "outputs": [],
   "source": []
  }
 ],
 "metadata": {
  "kernelspec": {
   "display_name": "Python 3",
   "language": "python",
   "name": "python3"
  },
  "language_info": {
   "codemirror_mode": {
    "name": "ipython",
    "version": 3
   },
   "file_extension": ".py",
   "mimetype": "text/x-python",
   "name": "python",
   "nbconvert_exporter": "python",
   "pygments_lexer": "ipython3",
   "version": "3.8.8"
  }
 },
 "nbformat": 4,
 "nbformat_minor": 5
}
