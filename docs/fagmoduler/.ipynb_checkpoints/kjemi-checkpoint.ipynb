{
 "cells": [
  {
   "cell_type": "markdown",
   "metadata": {},
   "source": [
    "# Programmering i kjemi\n",
    "Programmering i kjemi kan handle om datahåndtering og utforsking av kjemiske egenskaper. I kjemi kan det blant annet være hensiktsmessig å fokusere på utforsking av periodiske egenskaper ved hjelp av ulike _biblioteker_ i Python. Noen nyttige biblioteker som kan brukes til utforsking, er:\n",
    "\n",
    "1. Mendeleev (grunnstoffer)\n",
    "2. Chemlib (grunnstoffer, støkiometri og elektrokjemi)\n",
    "3. pHcalc (pH-beregninger)\n",
    "\n",
    "Du kan installere disse bibliotekene ved å gå inn på \"Anaconda Prompt\". Dette er en terminal du har installert dersom du har [Anaconda-pakka](https://www.anaconda.com/products/individual) på datamaskinen din. I denne terminalen skriver du så:\n",
    "\n",
    "```{code-block} text\n",
    "pip install mendeleev\n",
    "```\n",
    "\n",
    "Følg eventuelle instruksjoner og vent til installasjonen er ferdig. Kjør deretter neste installasjon:\n",
    "\n",
    "```{code-block} text\n",
    "pip install chemlib\n",
    "```\n",
    "\n",
    "Og siste installasjon:\n",
    "\n",
    "```{code-block} text\n",
    "pip install phcalc\n",
    "```\n",
    "\n",
    "Før vi ser på disse bibliotekene, skal vi derimot se litt på håndtering av eksperimentelle data."
   ]
  },
  {
   "cell_type": "markdown",
   "metadata": {},
   "source": [
    "## Datahåndtering\n",
    "Et mye brukt bibliotek for datahåndtering er _Pandas_. Det lar oss enkelt lese og utforske data fra råtekstfiler. Her er et eksempel:\n",
    "\n",
    "<iframe src=\"https://trinket.io/embed/python3/07e4100152\" width=\"100%\" height=\"600\" frameborder=\"0\" marginwidth=\"0\" marginheight=\"0\" allowfullscreen></iframe>\n",
    "\n",
    "```{admonition} Oppgave\n",
    ":class: tip\n",
    "Fila \"titreringsdata.txt\" inneholder pH og tilsatt volum i en titrering av eddiksyre med NaOH. Plott titrerkurven og legg til egnede aksetitler.\n",
    "```\n",
    "\n",
    "Du kan finne mer informasjon om plotting [her](https://andreasdh.github.io/NAT3000/docs/tema3_datahandtering/plotting.html) og mer informasjon om hvordan du kan lese og håndtere filer med Pandas [her](https://andreasdh.github.io/NAT3000/docs/tema3_datahandtering/lese_filer.html)."
   ]
  },
  {
   "cell_type": "markdown",
   "metadata": {},
   "source": [
    "## Periodiske egenskaper\n",
    "Vi starter med et enkelt eksempel for å bli kjent med Mendeleev-biblioteket."
   ]
  },
  {
   "cell_type": "code",
   "execution_count": 11,
   "metadata": {},
   "outputs": [
    {
     "name": "stdout",
     "output_type": "stream",
     "text": [
      "Atomnummer: 10 --Navn: Neon --Symbol: Ne --Gruppe: 18\n"
     ]
    }
   ],
   "source": [
    "from mendeleev import element\n",
    "\n",
    "Z = 10\n",
    "grunnstoff = element(Z)\n",
    "\n",
    "navn = grunnstoff.name\n",
    "symbol = grunnstoff.symbol\n",
    "gruppe = grunnstoff.group_id\n",
    "\n",
    "print(\"Atomnummer:\", Z, \"--Navn:\", navn, \"--Symbol:\", symbol, \"--Gruppe:\", gruppe)"
   ]
  },
  {
   "cell_type": "markdown",
   "metadata": {},
   "source": [
    "```{admonition} Oppgave\n",
    ":class: tip\n",
    "1. Utvid programmet slik at det også skriver ut periodenummeret. Du kan enten tippe på hva kommandoen for periode er, eller du kan slå det opp i [dokumentasjonen til mendeleev-biblioteket](https://mendeleev.readthedocs.io/en/stable/).\n",
    "2. Modifiser programmet slik at det skriver ut informasjon om de 18 letteste grunnstoffene.\n",
    "```"
   ]
  },
  {
   "cell_type": "markdown",
   "metadata": {},
   "source": [
    "La oss kombinere mendeleev-biblioteket med løkker og lister slik at vi kan finne informasjon om flere grunnstoffer, i tillegg til at vi kan plotte ulike sammenhenger."
   ]
  },
  {
   "cell_type": "code",
   "execution_count": 41,
   "metadata": {},
   "outputs": [],
   "source": [
    "from pylab import *\n",
    "from mendeleev import element\n",
    "\n",
    "atomnummer = []\n",
    "elektronegativitet = []\n",
    "\n",
    "for i in range(1, 119):\n",
    "    grunnstoff = element(i)\n",
    "    atomnummer.append(grunnstoff.atomic_number)\n",
    "    elektronegativitet.append(grunnstoff.electronegativity())"
   ]
  },
  {
   "cell_type": "markdown",
   "metadata": {},
   "source": [
    "````{admonition} Oppgave (PRIMM)\n",
    ":class: tip\n",
    "1. Forklar hva programmet ovenfor gjør. \n",
    "2. Kjør programmet og print ut lista med atomnummer og lista med elektronegativitet. Gjorde programmet det du tenkte?\n",
    "3. Istedenfor å bare printe ut listene, prøv å plotte listene mot hverandre (atomnummer på _x_-aksen og elektronegativitet på _y_aksen). Bruk gjerne _scatter_ istedenfor _plot_, slik at vi får punkter og ikke linjer.\n",
    "4a. Modifiser programmet slik at det kun plotter grunnstoffene i andre periode. Beskriv trenden.\n",
    "\n",
    "    Vi kan gjennomgå hvert element i ei liste slik:\n",
    "\n",
    "    ```{code-block} Python\n",
    "    navneliste = [\"Arne\", \"Bjarne\", \"Mia\", \"Pia\"]\n",
    "\n",
    "    for navn in navneliste:\n",
    "        print(navn)\n",
    "    ```\n",
    "\n",
    "4b. Bruk denne måten å gjennomgå lister på til å modifisere programmet slik at det kun plotter grunnstoffene i første gruppe. Beskriv trenden. Gjør det samme for gruppe 18 og beskriv denne trenden også.\n",
    "\n",
    "5. Lag et program som skriver ut eller plotter kokepunktet til alle halogenene. Beskriv og forklar trenden i kokepunkt.\n",
    "````"
   ]
  },
  {
   "cell_type": "markdown",
   "metadata": {},
   "source": [
    "## Eksempler på bruk av chemlib og pHcalc\n",
    "Nedenfor ser du noen eksempler på nyttig bruk av chemlib og pHcalc. Bibliotekene kan brukes til å utføre støkiometriske og elektrokjemiske beregninger, i tillegg til beregninger av pH i syrer og baser.\n",
    "\n",
    "```{admonition} Oppgave\n",
    "Studer eksemplene og prøv å forklare hvordan hvert av programmene fungerer. Hvordan kan slike biblioteker brukes på en fornuftig måte i undervisningen?\n",
    "```"
   ]
  },
  {
   "cell_type": "markdown",
   "metadata": {},
   "source": [
    "### 1. Støkiometri"
   ]
  },
  {
   "cell_type": "code",
   "execution_count": 1,
   "metadata": {},
   "outputs": [
    {
     "name": "stdout",
     "output_type": "stream",
     "text": [
      "{'grams': 3, 'molecules': 3.92e+22, 'moles': 0.065}\n"
     ]
    }
   ],
   "source": [
    "from chemlib import Compound, Reaction\n",
    "\n",
    "etanol = Compound(\"C2H6O\")\n",
    "print(etanol.get_amounts(grams=3))"
   ]
  },
  {
   "cell_type": "markdown",
   "metadata": {},
   "source": [
    "### 2. Reaksjonslikninger"
   ]
  },
  {
   "cell_type": "code",
   "execution_count": 2,
   "metadata": {},
   "outputs": [
    {
     "name": "stdout",
     "output_type": "stream",
     "text": [
      "2S₁O₂ + 1O₂ --> 2S₁O₃\n",
      "True\n"
     ]
    }
   ],
   "source": [
    "SO2 = Compound(\"SO2\")\n",
    "O2 = Compound(\"O2\")\n",
    "SO3 = Compound(\"SO3\")\n",
    "\n",
    "reaksjon = Reaction([SO2, O2], [SO3])\n",
    "reaksjon.balance()\n",
    "print(reaksjon.formula)\n",
    "print(reaksjon.is_balanced)"
   ]
  },
  {
   "cell_type": "code",
   "execution_count": 25,
   "metadata": {},
   "outputs": [
    {
     "name": "stdout",
     "output_type": "stream",
     "text": [
      "S₁O₂\n",
      "O₂\n"
     ]
    }
   ],
   "source": [
    "begrenset_reaktant = reaksjon.limiting_reagent(12, 20) # 12 g SO2, 20 g O2\n",
    "print(begrenset_reaktant)\n",
    "begrenset_reaktant2 = reaksjon.limiting_reagent(0.8, 0.1, mode=\"moles\") # 0.8 mol SO2, 0.1 mol O2\n",
    "print(begrenset_reaktant2)"
   ]
  },
  {
   "cell_type": "markdown",
   "metadata": {},
   "source": [
    "### 3. Elektrokjemiske celler"
   ]
  },
  {
   "cell_type": "code",
   "execution_count": 13,
   "metadata": {},
   "outputs": [
    {
     "name": "stdout",
     "output_type": "stream",
     "text": [
      "{'Cell': 'Pb | Pb2+ || Ag+ | Ag', 'Anode': 'Pb', 'Cathode': 'Ag', 'Cell Potential': 0.93}\n"
     ]
    }
   ],
   "source": [
    "from chemlib import Galvanic_Cell\n",
    "\n",
    "celle = Galvanic_Cell(\"Ag\", \"Pb\")\n",
    "print(celle.properties)"
   ]
  },
  {
   "cell_type": "code",
   "execution_count": 18,
   "metadata": {},
   "outputs": [
    {
     "data": {
      "text/plain": [
       "<chemlib.electrochemistry.Galvanic_Cell at 0x1a2fc69f790>"
      ]
     },
     "execution_count": 18,
     "metadata": {},
     "output_type": "execute_result"
    }
   ],
   "source": [
    "celle.draw() # Tegner elementet som et bilde i et nytt vindu"
   ]
  },
  {
   "cell_type": "code",
   "execution_count": 36,
   "metadata": {},
   "outputs": [
    {
     "name": "stdout",
     "output_type": "stream",
     "text": [
      "{'element': 'Ag', 'n': 2, 'seconds': 7200, 'amps': 20, 'grams': 80.49433590713582}\n"
     ]
    }
   ],
   "source": [
    "from chemlib import electrolysis\n",
    "el = electrolysis('Ag', n = 2, amps = 20, seconds=2*60*60) # Ag^+ --> Ag, forsølving i 2 timer med 20 A\n",
    "print(el)"
   ]
  },
  {
   "cell_type": "markdown",
   "metadata": {},
   "source": [
    "### 4. pH-beregninger"
   ]
  },
  {
   "cell_type": "code",
   "execution_count": 22,
   "metadata": {},
   "outputs": [
    {
     "name": "stdout",
     "output_type": "stream",
     "text": [
      "pH = 14.0\n",
      "pH = -0.0\n",
      "pH = 1.59\n"
     ]
    }
   ],
   "source": [
    "from pHcalc.pHcalc import Acid\n",
    "from pHcalc.pHcalc import Acid, Neutral, System\n",
    "\n",
    "# 1 M NaOH. Definerer det pH-nøytrale systemet, OH- legges på automatisk\n",
    "Na = Neutral(charge=1, conc=1) \n",
    "sol1 = System(Na)\n",
    "sol1.pHsolve()\n",
    "print(\"pH =\", round(sol1.pH,2)) # Gir pH ca. lik 14\n",
    "\n",
    "# 1 M HCl. Definerer det pH-nøytrale systemet, H+ legges på automatisk\n",
    "Cl = Neutral(charge=-1, conc=1) \n",
    "sol2 = System(Cl)\n",
    "sol2.pHsolve()\n",
    "print(\"pH =\", round(sol2.pH,2)) # Gir pH ca. lik 0\n",
    "\n",
    "# 1 M HF (svak syre)\n",
    "hf = Acid(Ka=6.76E-4, charge=0, conc=1) # eventuelt pKa=3.17\n",
    "sol3 = System(hf)\n",
    "sol3.pHsolve()\n",
    "print(\"pH =\", round(sol3.pH,2)) # Gir pH ca. lik 1.59"
   ]
  }
 ],
 "metadata": {
  "kernelspec": {
   "display_name": "Python 3",
   "language": "python",
   "name": "python3"
  },
  "language_info": {
   "codemirror_mode": {
    "name": "ipython",
    "version": 3
   },
   "file_extension": ".py",
   "mimetype": "text/x-python",
   "name": "python",
   "nbconvert_exporter": "python",
   "pygments_lexer": "ipython3",
   "version": "3.8.5"
  }
 },
 "nbformat": 4,
 "nbformat_minor": 5
}
