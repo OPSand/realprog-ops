{
 "cells": [
  {
   "cell_type": "markdown",
   "metadata": {},
   "source": [
    "# Sannsynlighet\n",
    "\n",
    "## Differensiering og ulike læringsløp\n",
    "\n",
    "I denne oppgava skal du lære om sannsynlighetsbegrepet. Du kan velge ulike løp i oppgava, alt ettersom hvor komfortabel du er med å programmere. Oppgava viser ulike muligheter for å differensiere med programmering.\n",
    "\n",
    "`````{tabbed} Informasjon om oppgava\n",
    "Vi skal studere et program som simulerer myntkast. Klikk på de ulike fanene for å gjøre oppgava tilpasset din kompetanse i programmering. Dersom du for eksempel forstår programmering godt, kan du prøve å lage programmet helt fra scratch. Da klikker du deg inn på nivå 5. Du kan starte på det nivået som passer deg. Prøv også gjerne de andre nivåene etter hvert.\n",
    "\n",
    "- Nivå 1: Forklar og modifiser\n",
    "- Nivå 2: Programmeringspuslespill\n",
    "- Nivå 3: Feilsøk\n",
    "- Nivå 4: Fyll inn\n",
    "- Nivå 5: Lag programmet\n",
    "`````\n",
    "\n",
    "`````{tabbed} Nivå 1: Forklaring\n",
    "1. Forklar hva programmet nedenfor gjør før du kjører programmet. \n",
    "2. Kjør deretter programmet og forklar hva det kan fortelle deg om sannsynlighet. \n",
    "3. Modifiser programmet slik at det kaster mynten 100 ganger, 1000 ganger og 10000 ganger. Hva blir utfallet, og hvorfor?\n",
    "\n",
    "<iframe src=\"https://trinket.io/embed/python3/1202b5eb11\" width=\"100%\" height=\"600\" frameborder=\"0\" marginwidth=\"0\" marginheight=\"0\" allowfullscreen></iframe>\n",
    "````` \n",
    "\n",
    "`````{tabbed} Nivå 2: Puslespill\n",
    "Løs [dette puslespillet](http://parsons.problemsolving.io/puzzle/23b61bf4e8954761993aa9200fb95ac2). Programmet skal simulere et myntkast og finne relativ frekvens av antall mynt, dersom kron = 0 og mynt = 1.\n",
    "````` \n",
    "\n",
    "`````{tabbed} Nivå 3: Feilsøk\n",
    "Programmetet nedenfor skal simulere et myntkast og finne relativ frekvens av antall mynt, med kron = 0 og mynt = 1, men programmet fungerer ikke som det skal. Forklar hva som er feil, og hvorfor. Rett opp programmet slik at det fungerer. Kjør programmet flere ganger med ulikt antall kast. Hva forteller resultatene deg om sammenhengen mellom relativ frekvens og sannsynlighet?\n",
    "\n",
    "<iframe src=\"https://trinket.io/embed/python3/1eb10f86f1\" width=\"100%\" height=\"600\" frameborder=\"0\" marginwidth=\"0\" marginheight=\"0\" allowfullscreen></iframe>\n",
    "````` \n",
    "\n",
    "`````{tabbed} Nivå 4: Fyll inn\n",
    "Programmet nedenfor skal simulere et myntkast og finne relativ frekvens av antall mynt, med kron = 0 og mynt = 1. Fyll inn det som mangler. Kjør deretter programmet flere ganger med ulikt antall kast. Forklar hva programmet kan fortelle deg om sammenhengen mellom relativ frekvens og sannsynlighet.\n",
    "\n",
    "<iframe src=\"https://trinket.io/embed/python3/aa45ab2937\" width=\"100%\" height=\"600\" frameborder=\"0\" marginwidth=\"0\" marginheight=\"0\" allowfullscreen></iframe>\n",
    "````` \n",
    "\n",
    "`````{tabbed} Nivå 5: Lag programmet\n",
    "Lag et program som skal simulere et myntkast og finne relativ frekvens av antall mynt. Varier antallet kast. Hva forteller resultatene deg om sammenhengen mellom relativ frekvens og sannsynlighet?\n",
    "\n",
    "<iframe src=\"https://trinket.io/embed/python3/3af5057b8c\" width=\"100%\" height=\"600\" frameborder=\"0\" marginwidth=\"0\" marginheight=\"0\" allowfullscreen></iframe>\n",
    "````` "
   ]
  }
 ],
 "metadata": {
  "kernelspec": {
   "display_name": "Python 3",
   "language": "python",
   "name": "python3"
  },
  "language_info": {
   "codemirror_mode": {
    "name": "ipython",
    "version": 3
   },
   "file_extension": ".py",
   "mimetype": "text/x-python",
   "name": "python",
   "nbconvert_exporter": "python",
   "pygments_lexer": "ipython3",
   "version": "3.8.5"
  }
 },
 "nbformat": 4,
 "nbformat_minor": 4
}
