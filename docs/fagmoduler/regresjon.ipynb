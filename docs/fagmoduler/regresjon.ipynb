{
 "cells": [
  {
   "cell_type": "markdown",
   "id": "7f29933c",
   "metadata": {},
   "source": [
    "# Regresjon\n",
    "\n",
    "```{admonition} Regresjon\n",
    "Regresjon er en metode for å finne et funksjonsuttrykk som passer best mulig med observerte data.\n",
    "```\n",
    "\n",
    "__Oppgaver__\n",
    "\n",
    "1. Hva menes med at funksjonen vi får i en regresjon, er en _modell_?\n",
    "2. Programmet nedenfor utfører en regresjon av løseligheten til natriumklorid. \n",
    "\n",
    "    a) Forklar hva programmet gjør. \n",
    "    \n",
    "    b) Hva tror du funksjonen _polyfit_ gjør? Hva returnerer den?\n",
    "    \n",
    "\n",
    "3. Kopier programmet over i en egnet editor og kjør programmet. \n",
    "    \n",
    "    a) Hva slags modell har vi fått? Skriv ned funksjonsuttrykket.\n",
    "    \n",
    "    b) Skriv ut _a_ og _b_. Hva har funksjonen _polyfit_ gitt oss? Stemmer det med det du trodde i oppgave b?\n",
    "    \n",
    "4. Legg til egnede aksetitler.\n",
    "5. Prøv å endre polynommodellen ved å endre graden til polynomet slik at vi får en mer passende modell. Hint: Du må endre linje 10 og 14."
   ]
  },
  {
   "cell_type": "code",
   "execution_count": null,
   "id": "a4252223",
   "metadata": {},
   "outputs": [],
   "source": [
    "import numpy as np\n",
    "import matplotlib.pyplot as plt\n",
    "\n",
    "# Data\n",
    "T = [0,20,40,60,80,100]\n",
    "sol_NH3 = [88.5, 56.0, 34.0, 20.0, 11.0, 7.0]\n",
    "sol_NaCl = [35.7, 35.9, 36.4, 37.1, 38.0, 39.2]\n",
    "\n",
    "# Regresjon\n",
    "a, b = np.polyfit(T, sol_NaCl, 1) # polynomgrad = 1\n",
    "\n",
    "# Lager modellpunkter som kan plottes\n",
    "x = np.linspace(0,200,10000)\n",
    "y = a*x + b\n",
    "\n",
    "plt.plot(T, sol_NaCl, marker = 'o', linestyle = ' ', label = 'Datapunkter')\n",
    "plt.plot(x, y, label = \"Modell\")\n",
    "plt.legend()\n",
    "plt.xlabel(\"Sett inn aksetittel\")\n",
    "plt.ylabel(\"Sett inn aksetittel\")\n",
    "plt.show()"
   ]
  },
  {
   "cell_type": "markdown",
   "id": "603a0b14",
   "metadata": {},
   "source": [
    "6. Vi har et datasett som viser [temperaturen en god vårdag i april.](https://raw.githubusercontent.com/andreasdh/realprog/master/docs/datafiler/temperatur.txt). Modifiser programmet ovenfor slik at det gjør regresjon av disse dataene. Du kan få et hint nedenfor dersom du trenger hjelp til å lese av datafila.\n",
    "\n",
    "````{admonition} Hint\n",
    ":class: tip, dropdown\n",
    "Du kan enten lese av lenka direkte, eller laste ned fila og lese den fra datamaskinen din.\n",
    "\n",
    "```{code-block} Python\n",
    "import pandas as pd\n",
    "\n",
    "data = pd.read_csv(https://raw.githubusercontent.com/andreasdh/realprog/master/docs/datafiler/temperatur.txt)\n",
    "tid_min = data[\"tid_min\"]\n",
    "temp = data[\"temp_C\"]\n",
    "```\n",
    "````"
   ]
  }
 ],
 "metadata": {
  "kernelspec": {
   "display_name": "Python 3 (ipykernel)",
   "language": "python",
   "name": "python3"
  },
  "language_info": {
   "codemirror_mode": {
    "name": "ipython",
    "version": 3
   },
   "file_extension": ".py",
   "mimetype": "text/x-python",
   "name": "python",
   "nbconvert_exporter": "python",
   "pygments_lexer": "ipython3",
   "version": "3.9.12"
  }
 },
 "nbformat": 4,
 "nbformat_minor": 5
}
