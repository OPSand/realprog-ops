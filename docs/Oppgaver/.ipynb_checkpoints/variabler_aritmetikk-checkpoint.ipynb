{
 "cells": [
  {
   "cell_type": "markdown",
   "id": "8372f4d6",
   "metadata": {},
   "source": [
    "# Variabler og aritmetikk\n",
    "\n",
    "## Output\n",
    "\n",
    "````{admonition} Eksempeloppgave 1\n",
    ":class: tip\n",
    "Forklar hva følgende kode betyr:\n",
    "\n",
    "```{code-block} Python\n",
    "print(\"Hei, Wanja!\")\n",
    "```\n",
    "\n",
    "````\n",
    "\n",
    "````{admonition} Løsningsforslag\n",
    ":class: tip, dropdown\n",
    "\n",
    "Koden betyr at vi hilser på Wanja.\n",
    "````"
   ]
  },
  {
   "cell_type": "markdown",
   "id": "ebe7f884",
   "metadata": {},
   "source": [
    "## Variabler\n",
    "````{admonition} Oppgave 1.2.1 \n",
    ":class: tip\n",
    "\n",
    "````\n",
    "\n",
    "````{admonition} Løsningsforslag\n",
    ":class: tip, dropdown\n",
    "\n",
    "````"
   ]
  }
 ],
 "metadata": {
  "kernelspec": {
   "display_name": "Python 3 (ipykernel)",
   "language": "python",
   "name": "python3"
  },
  "language_info": {
   "codemirror_mode": {
    "name": "ipython",
    "version": 3
   },
   "file_extension": ".py",
   "mimetype": "text/x-python",
   "name": "python",
   "nbconvert_exporter": "python",
   "pygments_lexer": "ipython3",
   "version": "3.8.5"
  }
 },
 "nbformat": 4,
 "nbformat_minor": 5
}
