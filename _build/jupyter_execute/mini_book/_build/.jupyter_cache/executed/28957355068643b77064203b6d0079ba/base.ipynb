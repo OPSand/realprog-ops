{
 "cells": [
  {
   "cell_type": "code",
   "execution_count": 1,
   "metadata": {
    "execution": {
     "iopub.execute_input": "2020-07-20T19:18:01.788725Z",
     "iopub.status.busy": "2020-07-20T19:18:01.785762Z",
     "iopub.status.idle": "2020-07-20T19:18:02.020516Z",
     "shell.execute_reply": "2020-07-20T19:18:02.019448Z"
    }
   },
   "outputs": [],
   "source": [
    "import numpy as np                     # Load the library\n",
    "\n",
    "a = np.linspace(-np.pi, np.pi, 100)    # Create even grid from -π to π\n",
    "b = np.cos(a)                          # Apply cosine to each element of a\n",
    "c = np.sin(a)                          # Apply sin to each element of a"
   ]
  },
  {
   "cell_type": "code",
   "execution_count": 2,
   "metadata": {
    "execution": {
     "iopub.execute_input": "2020-07-20T19:18:02.037719Z",
     "iopub.status.busy": "2020-07-20T19:18:02.034346Z",
     "iopub.status.idle": "2020-07-20T19:18:02.041247Z",
     "shell.execute_reply": "2020-07-20T19:18:02.040702Z"
    }
   },
   "outputs": [
    {
     "data": {
      "text/plain": [
       "1.5265566588595902e-16"
      ]
     },
     "execution_count": 2,
     "metadata": {},
     "output_type": "execute_result"
    }
   ],
   "source": [
    "b @ c"
   ]
  },
  {
   "cell_type": "code",
   "execution_count": 3,
   "metadata": {
    "execution": {
     "iopub.execute_input": "2020-07-20T19:18:02.047010Z",
     "iopub.status.busy": "2020-07-20T19:18:02.046299Z",
     "iopub.status.idle": "2020-07-20T19:18:02.475071Z",
     "shell.execute_reply": "2020-07-20T19:18:02.475537Z"
    }
   },
   "outputs": [
    {
     "data": {
      "text/plain": [
       "0.9544997361036417"
      ]
     },
     "execution_count": 3,
     "metadata": {},
     "output_type": "execute_result"
    }
   ],
   "source": [
    "from scipy.stats import norm\n",
    "from scipy.integrate import quad\n",
    "\n",
    "ϕ = norm()\n",
    "value, error = quad(ϕ.pdf, -2, 2)  # Integrate using Gaussian quadrature\n",
    "value"
   ]
  },
  {
   "cell_type": "code",
   "execution_count": 4,
   "metadata": {
    "execution": {
     "iopub.execute_input": "2020-07-20T19:18:02.480025Z",
     "iopub.status.busy": "2020-07-20T19:18:02.479286Z",
     "iopub.status.idle": "2020-07-20T19:18:03.363043Z",
     "shell.execute_reply": "2020-07-20T19:18:03.363509Z"
    }
   },
   "outputs": [
    {
     "data": {
      "text/latex": [
       "$\\displaystyle 3 x + y$"
      ],
      "text/plain": [
       "3*x + y"
      ]
     },
     "execution_count": 4,
     "metadata": {},
     "output_type": "execute_result"
    }
   ],
   "source": [
    "from sympy import Symbol\n",
    "\n",
    "x, y = Symbol('x'), Symbol('y')  # Treat 'x' and 'y' as algebraic symbols\n",
    "x + x + x + y"
   ]
  },
  {
   "cell_type": "code",
   "execution_count": 5,
   "metadata": {
    "execution": {
     "iopub.execute_input": "2020-07-20T19:18:03.371267Z",
     "iopub.status.busy": "2020-07-20T19:18:03.370343Z",
     "iopub.status.idle": "2020-07-20T19:18:03.373511Z",
     "shell.execute_reply": "2020-07-20T19:18:03.374029Z"
    }
   },
   "outputs": [
    {
     "data": {
      "text/latex": [
       "$\\displaystyle x^{2} + 2 x y + y^{2}$"
      ],
      "text/plain": [
       "x**2 + 2*x*y + y**2"
      ]
     },
     "execution_count": 5,
     "metadata": {},
     "output_type": "execute_result"
    }
   ],
   "source": [
    "expression = (x + y)**2\n",
    "expression.expand()"
   ]
  },
  {
   "cell_type": "code",
   "execution_count": 6,
   "metadata": {
    "execution": {
     "iopub.execute_input": "2020-07-20T19:18:03.381772Z",
     "iopub.status.busy": "2020-07-20T19:18:03.381187Z",
     "iopub.status.idle": "2020-07-20T19:18:03.435640Z",
     "shell.execute_reply": "2020-07-20T19:18:03.435139Z"
    }
   },
   "outputs": [
    {
     "data": {
      "text/plain": [
       "[-1/2 - sqrt(7)*I/2, -1/2 + sqrt(7)*I/2]"
      ]
     },
     "execution_count": 6,
     "metadata": {},
     "output_type": "execute_result"
    }
   ],
   "source": [
    "from sympy import solve\n",
    "\n",
    "solve(x**2 + x + 2)"
   ]
  },
  {
   "cell_type": "code",
   "execution_count": 7,
   "metadata": {
    "execution": {
     "iopub.execute_input": "2020-07-20T19:18:03.451930Z",
     "iopub.status.busy": "2020-07-20T19:18:03.451253Z",
     "iopub.status.idle": "2020-07-20T19:18:03.454333Z",
     "shell.execute_reply": "2020-07-20T19:18:03.454768Z"
    }
   },
   "outputs": [
    {
     "data": {
      "text/latex": [
       "$\\displaystyle \\infty$"
      ],
      "text/plain": [
       "oo"
      ]
     },
     "execution_count": 7,
     "metadata": {},
     "output_type": "execute_result"
    }
   ],
   "source": [
    "from sympy import limit, sin, diff\n",
    "\n",
    "limit(1 / x, x, 0)"
   ]
  },
  {
   "cell_type": "code",
   "execution_count": 8,
   "metadata": {
    "execution": {
     "iopub.execute_input": "2020-07-20T19:18:03.506991Z",
     "iopub.status.busy": "2020-07-20T19:18:03.493284Z",
     "iopub.status.idle": "2020-07-20T19:18:03.509971Z",
     "shell.execute_reply": "2020-07-20T19:18:03.510451Z"
    }
   },
   "outputs": [
    {
     "data": {
      "text/latex": [
       "$\\displaystyle 1$"
      ],
      "text/plain": [
       "1"
      ]
     },
     "execution_count": 8,
     "metadata": {},
     "output_type": "execute_result"
    }
   ],
   "source": [
    "limit(sin(x) / x, x, 0)"
   ]
  },
  {
   "cell_type": "code",
   "execution_count": 9,
   "metadata": {
    "execution": {
     "iopub.execute_input": "2020-07-20T19:18:03.516448Z",
     "iopub.status.busy": "2020-07-20T19:18:03.515706Z",
     "iopub.status.idle": "2020-07-20T19:18:03.518857Z",
     "shell.execute_reply": "2020-07-20T19:18:03.519322Z"
    }
   },
   "outputs": [
    {
     "data": {
      "text/latex": [
       "$\\displaystyle \\cos{\\left(x \\right)}$"
      ],
      "text/plain": [
       "cos(x)"
      ]
     },
     "execution_count": 9,
     "metadata": {},
     "output_type": "execute_result"
    }
   ],
   "source": [
    "diff(sin(x), x)"
   ]
  },
  {
   "cell_type": "code",
   "execution_count": 10,
   "metadata": {
    "execution": {
     "iopub.execute_input": "2020-07-20T19:18:03.524526Z",
     "iopub.status.busy": "2020-07-20T19:18:03.523933Z",
     "iopub.status.idle": "2020-07-20T19:18:03.896035Z",
     "shell.execute_reply": "2020-07-20T19:18:03.896610Z"
    }
   },
   "outputs": [
    {
     "name": "stdout",
     "output_type": "stream",
     "text": [
      "               price    weight\n",
      "2010-12-28  0.471435 -1.190976\n",
      "2010-12-29  1.432707 -0.312652\n",
      "2010-12-30 -0.720589  0.887163\n",
      "2010-12-31  0.859588 -0.636524\n",
      "2011-01-01  0.015696 -2.242685\n"
     ]
    }
   ],
   "source": [
    "import pandas as pd\n",
    "np.random.seed(1234)\n",
    "\n",
    "data = np.random.randn(5, 2)  # 5x2 matrix of N(0, 1) random draws\n",
    "dates = pd.date_range('28/12/2010', periods=5)\n",
    "\n",
    "df = pd.DataFrame(data, columns=('price', 'weight'), index=dates)\n",
    "print(df)"
   ]
  },
  {
   "cell_type": "code",
   "execution_count": 11,
   "metadata": {
    "execution": {
     "iopub.execute_input": "2020-07-20T19:18:03.903597Z",
     "iopub.status.busy": "2020-07-20T19:18:03.902657Z",
     "iopub.status.idle": "2020-07-20T19:18:03.906725Z",
     "shell.execute_reply": "2020-07-20T19:18:03.905862Z"
    }
   },
   "outputs": [
    {
     "data": {
      "text/plain": [
       "price     0.411768\n",
       "weight   -0.699135\n",
       "dtype: float64"
      ]
     },
     "execution_count": 11,
     "metadata": {},
     "output_type": "execute_result"
    }
   ],
   "source": [
    "df.mean()"
   ]
  }
 ],
 "metadata": {
  "jupytext": {
   "text_representation": {
    "extension": ".md",
    "format_name": "myst"
   }
  },
  "kernelspec": {
   "display_name": "Python 3",
   "language": "python",
   "name": "python3"
  },
  "language_info": {
   "codemirror_mode": {
    "name": "ipython",
    "version": 3
   },
   "file_extension": ".py",
   "mimetype": "text/x-python",
   "name": "python",
   "nbconvert_exporter": "python",
   "pygments_lexer": "ipython3",
   "version": "3.7.6"
  }
 },
 "nbformat": 4,
 "nbformat_minor": 4
}